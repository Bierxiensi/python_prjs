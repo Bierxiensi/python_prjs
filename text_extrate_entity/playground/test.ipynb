{
 "cells": [
  {
   "cell_type": "code",
   "execution_count": 6,
   "metadata": {},
   "outputs": [
    {
     "name": "stdout",
     "output_type": "stream",
     "text": [
      "['我是一个干', '饭1人，我', '爱干饭2', '我是一个干', '饭3人，我', '爱干饭4，', '我爱干饭5', '我是一个干', '饭6人，我', '爱干饭7，', '我爱干饭8', '，我爱干饭', '9，我爱干', '饭10，我', '爱干饭11', '，我爱干饭', '12', '我爱干饭，', '我爱干饭']\n",
      "[1, 2, 4, 5, 6, 8, 9, 10, 11, 12, 13, 14, 15, 16, 18]\n",
      "['我是一个干饭1人，我爱干饭2', '我是一个干饭3人，我爱干饭4，我爱干饭5', '我是一个干饭6人，我爱干饭7，我爱干饭8，我爱干饭9，我爱干饭10，我爱干饭11，我爱干饭12', '我爱干饭，我爱干饭']\n"
     ]
    }
   ],
   "source": [
    "import numpy as np\n",
    "def break_sentence(sentences, max_column):\n",
    "    sentences_new = []\n",
    "    sentences_break_index = []\n",
    "    for i, sentence in enumerate(sentences):\n",
    "        while len(sentence) > max_column:\n",
    "            sentences_new.append(sentence[:max_column])\n",
    "            idx = len(sentences_new)\n",
    "            sentences_break_index.append(idx)\n",
    "            sentence = sentence[max_column:]\n",
    "        sentences_new.append(sentence)\n",
    "    return sentences_new, sentences_break_index\n",
    "\n",
    "\n",
    "def restore_sentence(sentences, sentences_break_index):\n",
    "    sentences_restored = []\n",
    "    for i, sentence in enumerate(sentences):\n",
    "        if i in sentences_break_index:\n",
    "            # update prev\n",
    "            sentences_restored[-1] += sentence\n",
    "        else:\n",
    "            sentences_restored.append(sentence)\n",
    "\n",
    "    return sentences_restored\n",
    "\n",
    "def test_break_restore():\n",
    "    sentences = [\n",
    "        \"我是一个干饭1人，我爱干饭2\", \n",
    "        \"我是一个干饭3人，我爱干饭4，我爱干饭5\", \n",
    "        \"我是一个干饭6人，我爱干饭7，我爱干饭8，我爱干饭9，我爱干饭10，我爱干饭11，我爱干饭12\", \n",
    "        \"我爱干饭，我爱干饭\"\n",
    "    ]\n",
    "    max_column = 5\n",
    "    sentences_new, sentences_break_index = break_sentence(sentences, max_column)\n",
    "    print(sentences_new)\n",
    "    print(sentences_break_index)\n",
    "    sentences_res = restore_sentence(sentences_new, sentences_break_index)\n",
    "    print(sentences_res)\n",
    "    assert np.alltrue(sentences_res == sentences), \"Expect restored == original\"\n",
    "\n",
    "test_break_restore()"
   ]
  }
 ],
 "metadata": {
  "kernelspec": {
   "display_name": "Python 3",
   "language": "python",
   "name": "python3"
  },
  "language_info": {
   "name": "python",
   "version": "3.9.6"
  }
 },
 "nbformat": 4,
 "nbformat_minor": 2
}
