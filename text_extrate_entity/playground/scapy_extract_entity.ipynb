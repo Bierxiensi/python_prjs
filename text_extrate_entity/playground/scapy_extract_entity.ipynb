{
 "cells": [
  {
   "cell_type": "code",
   "execution_count": 1,
   "metadata": {},
   "outputs": [
    {
     "name": "stderr",
     "output_type": "stream",
     "text": [
      "/Users/bierxiensi/Library/Python/3.9/lib/python/site-packages/tqdm/auto.py:21: TqdmWarning: IProgress not found. Please update jupyter and ipywidgets. See https://ipywidgets.readthedocs.io/en/stable/user_install.html\n",
      "  from .autonotebook import tqdm as notebook_tqdm\n",
      "/Users/bierxiensi/Library/Python/3.9/lib/python/site-packages/spacy/training/iob_utils.py:149: UserWarning: [W030] Some entities could not be aligned in the text \"菲律宾空军派出2架FA-50战机和一架超级巨嘴鸟攻击机。\" with entities \"[(0, 2, 'COUNTRY'), (10, 16, 'WEAPON'), (20, 27, '...\". Use `spacy.training.offsets_to_biluo_tags(nlp.make_doc(text), entities)` to check the alignment. Misaligned entities ('-') will be ignored during training.\n",
      "  warnings.warn(\n",
      "/Users/bierxiensi/Library/Python/3.9/lib/python/site-packages/spacy/training/iob_utils.py:149: UserWarning: [W030] Some entities could not be aligned in the text \"P-8A海上巡逻机（P-8A Poseidon），是美国波音公司设计生产的新一代海上巡逻机。\" with entities \"[(0, 8, 'WEAPON'), (10, 22, 'WEAPON'), (26, 27, 'C...\". Use `spacy.training.offsets_to_biluo_tags(nlp.make_doc(text), entities)` to check the alignment. Misaligned entities ('-') will be ignored during training.\n",
      "  warnings.warn(\n",
      "/Users/bierxiensi/Library/Python/3.9/lib/python/site-packages/spacy/training/iob_utils.py:149: UserWarning: [W030] Some entities could not be aligned in the text \"菲律宾军方表示，3天的菲美海上合作活动从巴丹群岛附近启动，于南海结束演练。\" with entities \"[(0, 2, 'COUNTRY'), (21, 24, 'LOC'), (31, 32, 'LOC...\". Use `spacy.training.offsets_to_biluo_tags(nlp.make_doc(text), entities)` to check the alignment. Misaligned entities ('-') will be ignored during training.\n",
      "  warnings.warn(\n",
      "/Users/bierxiensi/Library/Python/3.9/lib/python/site-packages/spacy/training/iob_utils.py:149: UserWarning: [W030] Some entities could not be aligned in the text \"美军方面则有濒海战斗舰吉佛兹号和一架P8-A海神式海上巡逻机参与联合巡逻。\" with entities \"[(6, 14, 'WEAPON'), (18, 29, 'WEAPON'), (32, 35, '...\". Use `spacy.training.offsets_to_biluo_tags(nlp.make_doc(text), entities)` to check the alignment. Misaligned entities ('-') will be ignored during training.\n",
      "  warnings.warn(\n",
      "/Users/bierxiensi/Library/Python/3.9/lib/python/site-packages/spacy/training/iob_utils.py:149: UserWarning: [W030] Some entities could not be aligned in the text \"菲美联合海空巡逻周四结束，菲律宾战机和舰艇在过去3天巡逻近台湾的巴丹群岛，并在南海进行通行与战术演习...\" with entities \"[(2, 7, 'EVENT'), (13, 15, 'COUNTRY'), (39, 35, 'L...\". Use `spacy.training.offsets_to_biluo_tags(nlp.make_doc(text), entities)` to check the alignment. Misaligned entities ('-') will be ignored during training.\n",
      "  warnings.warn(\n"
     ]
    },
    {
     "name": "stdout",
     "output_type": "stream",
     "text": [
      "[('菲律宾军方', 'FAC'), ('南海', 'LOC')]\n"
     ]
    }
   ],
   "source": [
    "import spacy\n",
    "import random\n",
    "from spacy.tokens import Doc\n",
    "from spacy.training import Example\n",
    "\n",
    "nlp = spacy.blank('zh')  # 英文为 en\n",
    "nlp = spacy.load('zh_core_web_sm')\n",
    "if 'ner' not in nlp.pipe_names:\n",
    "    ner = nlp.create_pipe('ner')\n",
    "    nlp.add_pipe(ner, last=True)\n",
    "else:\n",
    "    ner = nlp.get_pipe(\"ner\")\n",
    "    \n",
    "# 添加实体标签\n",
    "LABELS = [\"WEAPON\", \"LOC\", \"COUNTRY\", \"EVENT\"]\n",
    "for label in LABELS:\n",
    "    ner.add_label(label)\n",
    "\n",
    "# 训练数据\n",
    "train_data = [\n",
    "    (\"P-8A海上巡逻机（P-8A Poseidon），是美国波音公司设计生产的新一代海上巡逻机。\", {\"entities\": [(0, 8, \"WEAPON\"), (10, 22, \"WEAPON\"), (26, 27, \"COUNTRY\")]}),\n",
    "    (\"美军方面则有濒海战斗舰吉佛兹号和一架P8-A海神式海上巡逻机参与联合巡逻。\", {\"entities\": [(6, 14, \"WEAPON\"), (18, 29, \"WEAPON\"), (32, 35, \"EVENT\")]}),\n",
    "    (\"菲美联合海空巡逻周四结束，菲律宾战机和舰艇在过去3天巡逻近台湾的巴丹群岛，并在南海进行通行与战术演习，以强化菲美区域合作与联合行动力。\", {\"entities\": [(2, 7, \"EVENT\"), (13, 15, \"COUNTRY\"), (39, 35, \"LOC\"), (39, 40, \"LOC\"), (43, 49, \"EVENT\")]}),\n",
    "    (\"菲律宾军方表示，3天的菲美海上合作活动从巴丹群岛附近启动，于南海结束演练。\", {\"entities\": [(0, 2, \"COUNTRY\"), (21, 24, \"LOC\"), (31, 32, \"LOC\")]}),\n",
    "    (\"菲律宾空军派出2架FA-50战机和一架超级巨嘴鸟攻击机。\", {\"entities\": [(0, 2, \"COUNTRY\"), (10, 16, \"WEAPON\"), (20, 27, \"WEAPON\")]}),\n",
    "]\n",
    "\n",
    "# 训练模型\n",
    "for iteration in range(10):\n",
    "    # 打乱数据\n",
    "    random.shuffle(train_data)\n",
    "    # 创建训练实例\n",
    "    for text, annotations in train_data:\n",
    "        doc = nlp.make_doc(text)\n",
    "        example = Example.from_dict(doc, annotations)\n",
    "        # 训练模型\n",
    "        nlp.update([example], losses={})\n",
    "\n",
    "# 测试模型\n",
    "doc = nlp(\"菲律宾军方表示，3天的菲美海上合作活动从巴丹群岛附近启动，于南海结束演练。\")\n",
    "print([(ent.text, ent.label_) for ent in doc.ents])"
   ]
  }
 ],
 "metadata": {
  "kernelspec": {
   "display_name": "Python 3",
   "language": "python",
   "name": "python3"
  },
  "language_info": {
   "codemirror_mode": {
    "name": "ipython",
    "version": 3
   },
   "file_extension": ".py",
   "mimetype": "text/x-python",
   "name": "python",
   "nbconvert_exporter": "python",
   "pygments_lexer": "ipython3",
   "version": "3.9.6"
  }
 },
 "nbformat": 4,
 "nbformat_minor": 2
}
