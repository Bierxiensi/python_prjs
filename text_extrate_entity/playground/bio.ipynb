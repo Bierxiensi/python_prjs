{
 "cells": [
  {
   "cell_type": "code",
   "execution_count": null,
   "metadata": {},
   "outputs": [],
   "source": [
    "def bio_tagging(text, entities):\n",
    "    bio_tags = ['O'] * len(text)\n",
    "    for start, end, label in entities:\n",
    "        for i in range(start, end):\n",
    "            if i == start:\n",
    "                bio_tags[i] = 'B-' + label\n",
    "            else:\n",
    "                bio_tags[i] = 'I-' + label\n",
    "    tokens = []\n",
    "    for char in text:\n",
    "        tokens.append(char)\n",
    "    token_bio_tags = [(token, bio_tag) for token, bio_tag in zip(tokens, bio_tags)]\n",
    "    return token_bio_tags\n",
    "\n",
    "# Sample data\n",
    "data = [\n",
    "    {'text': '美军方面则有濒海战斗舰吉佛兹号和一架P8-A海神式海上巡逻机参与联合巡逻。',\n",
    "     'entities': [[18, 29, 'WEAPON'], [32, 35, 'EVENT'], [6, 14, 'WEAPON']]},\n",
    "    {'text': '菲律宾和美国联合海空巡逻周四结束，菲律宾战机和舰艇在过去3天巡逻近台湾的巴丹群岛。',\n",
    "     'entities': [[10, 11, 'EVENT'], [36, 39, 'LOC'], [4, 5, 'COUNTRY'], [0, 2, 'COUNTRY']]}\n",
    "]\n",
    "with open('entity.txt', 'w', encoding='utf-8') as file:\n",
    "    # Iterate through the data and perform BIO tagging\n",
    "    for item in data:\n",
    "        text = item['text']\n",
    "        entities = item['entities']\n",
    "        tagged_tokens = bio_tagging(text, entities)\n",
    "        print(tagged_tokens)\n",
    "        for token, bio_tag in tagged_tokens:\n",
    "            file.write(f\"{token} {bio_tag}\\n\")"
   ]
  }
 ],
 "metadata": {
  "language_info": {
   "name": "python"
  }
 },
 "nbformat": 4,
 "nbformat_minor": 2
}
