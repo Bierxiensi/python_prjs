{
 "cells": [
  {
   "cell_type": "code",
   "execution_count": 29,
   "metadata": {},
   "outputs": [
    {
     "name": "stdout",
     "output_type": "stream",
     "text": [
      "[['真人版', '的', '《', '花木兰', '》', '由', '新西兰', '导演', '妮基·卡罗', '执导', '，', '由', '刘亦菲', '、', '甄子丹', '、', '郑佩佩', '、', '巩俐', '、', '李连杰', '等', '加盟', '，', '几乎', '是', '全', '亚洲', '阵容']]\n",
      "[['n', 'u', 'wp', 'nh', 'wp', 'p', 'ns', 'n', 'nh', 'v', 'wp', 'p', 'nh', 'wp', 'nh', 'wp', 'nh', 'wp', 'nh', 'wp', 'nh', 'u', 'v', 'wp', 'd', 'v', 'a', 'ns', 'n']]\n",
      "[{'head': [4, 4, 4, 10, 4, 8, 8, 10, 8, 0, 10, 13, 23, 13, 13, 15, 15, 17, 17, 19, 19, 21, 10, 23, 26, 23, 28, 29, 26], 'label': ['FEAT', 'mDEPD', 'mPUNC', 'PAT', 'mPUNC', 'mRELA', 'FEAT', 'AGT', 'FEAT', 'Root', 'mPUNC', 'mRELA', 'AGT', 'mPUNC', 'eCOO', 'mPUNC', 'eCOO', 'mPUNC', 'eCOO', 'mPUNC', 'eCOO', 'mDEPD', 'eSUCC', 'mPUNC', 'mDEPD', 'eSUCC', 'FEAT', 'FEAT', 'LINK']}]\n",
      "[[{'predicate': '执导', 'arguments': [('A0', '由新西兰导演妮基·卡罗')]}, {'predicate': '加盟', 'arguments': [('A1', '真人版的《花木兰》'), ('A0', '由刘亦菲、甄子丹、郑佩佩、巩俐、李连杰等')]}, {'predicate': '是', 'arguments': [('ARGM-ADV', '几乎'), ('A1', '全亚洲阵容')]}]]\n",
      "[[('Ns', '新西兰'), ('Nh', '妮基·卡罗'), ('Nh', '刘亦菲'), ('Nh', '甄子丹'), ('Nh', '郑佩佩'), ('Nh', '巩俐'), ('Nh', '李连杰'), ('Ns', '亚洲')]]\n"
     ]
    }
   ],
   "source": [
    "from ltp import LTP\n",
    "ltp = LTP()\n",
    "text = '真人版的《花木兰》由新西兰导演妮基·卡罗执导，由刘亦菲、甄子丹、郑佩佩、巩俐、李连杰等加盟，几乎是全亚洲阵容'\n",
    "\n",
    "output = ltp.pipeline([text], tasks=[\"cws\", \"pos\", \"ner\", \"srl\", \"dep\", \"sdp\", \"sdpg\"])\n",
    "print(output.cws)  # print(output[0]) / print(output['cws']) # 也可以使用下标访问\n",
    "print(output.pos)\n",
    "print(output.sdp)\n",
    "print(output.srl)\n",
    "print(output.ner)"
   ]
  },
  {
   "cell_type": "code",
   "execution_count": 28,
   "metadata": {},
   "outputs": [
    {
     "name": "stdout",
     "output_type": "stream",
     "text": [
      "[['P-', '8A', '海上', '巡逻机', '（', 'P-8A Poseidon', '）', '，', '是', '美国', '波音', '公司', '设计', '生产', '的', '新', '一代', '海上', '巡逻机', '。']]\n",
      "[['v', 'v', 'nl', 'n', 'wp', 'q', 'wp', 'wp', 'v', 'ns', 'b', 'n', 'v', 'v', 'u', 'a', 'n', 'nl', 'n', 'wp']]\n",
      "[[('Ni', '美国波音公司')]]\n"
     ]
    }
   ],
   "source": [
    "ltp = LTP(\"LTP/legacy\")\n",
    "# cws, pos, ner = ltp.pipeline([\"他叫汤姆去拿外衣。\"], tasks=[\"cws\", \"ner\"]).to_tuple() # error: NER 需要 词性标注任务的结果\n",
    "\n",
    "text = \"汤姆喜欢喝牛奶。\"\n",
    "text2 = 'P-8A海上巡逻机（P-8A Poseidon），是美国波音公司设计生产的新一代海上巡逻机。'\n",
    "\n",
    "cws, pos, ner = ltp.pipeline([text2], tasks=[\"cws\", \"pos\", \"ner\"]).to_tuple()  # to tuple 可以自动转换为元组格式\n",
    "# 使用元组格式作为返回结果\n",
    "print(cws)\n",
    "print(pos)\n",
    "print(ner)"
   ]
  },
  {
   "cell_type": "code",
   "execution_count": 12,
   "metadata": {},
   "outputs": [
    {
     "name": "stdout",
     "output_type": "stream",
     "text": [
      "[['昨天', '进行', '的', '女单', '半决赛', '中', '，', '陈梦4', '-', '2', '击败', '了', '队友', '王曼昱', '，', '伊藤', '美诚', '则', '以', '4-0', '横', '扫', '了', '中国', '选手', '丁宁', '。']]\n",
      "[['nt', 'v', 'u', 'j', 'n', 'nd', 'wp', 'nh', 'v', 'v', 'v', 'u', 'n', 'nh', 'wp', 'nh', 'a', 'c', 'p', 'n', 'd', 'v', 'u', 'ns', 'n', 'nh', 'wp']]\n",
      "[[('Nh', '陈梦4'), ('Nh', '王曼昱'), ('Nh', '伊藤'), ('Ns', '中国'), ('Nh', '丁宁')]]\n"
     ]
    }
   ],
   "source": [
    "text3 = '昨天进行的女单半决赛中，陈梦4-2击败了队友王曼昱，伊藤美诚则以4-0横扫了中国选手丁宁。'\n",
    "\n",
    "cws, pos, ner = ltp.pipeline([text3], tasks=[\"cws\", \"pos\", \"ner\"]).to_tuple()  # to tuple 可以自动转换为元组格式\n",
    "# 使用元组格式作为返回结果\n",
    "print(cws)\n",
    "print(pos)\n",
    "print(ner)\n"
   ]
  },
  {
   "cell_type": "code",
   "execution_count": 13,
   "metadata": {},
   "outputs": [
    {
     "name": "stdout",
     "output_type": "stream",
     "text": [
      "[['报道', '还', '提到', '，', '德国', '卫生部长', '延斯·施潘', '在', '会上', '也', '表示', '，', '如果', '不', '能', '率先', '开发', '出', '且', '使用', '疫苗', '，', '那么', '60', '%', '至', '70', '%', '的', '人', '可能', '会', '被', '感染', '新', '冠', '病毒', '。']]\n",
      "[['n', 'd', 'v', 'wp', 'ns', 'n', 'nh', 'p', 'nt', 'd', 'v', 'wp', 'c', 'd', 'v', 'd', 'v', 'v', 'c', 'v', 'n', 'wp', 'c', 'v', 'v', 'p', 'ns', 'v', 'u', 'n', 'v', 'v', 'p', 'v', 'a', 'n', 'n', 'wp']]\n",
      "[[('Ns', '德国'), ('Nh', '延斯·施潘'), ('Ns', '70')]]\n"
     ]
    }
   ],
   "source": [
    "text4 = \"报道还提到，德国卫生部长延斯·施潘在会上也表示，如果不能率先开发出且使用疫苗，那么60%至70%的人可能会被感染新冠病毒。\"\n",
    "\n",
    "cws, pos, ner = ltp.pipeline([text4], tasks=[\"cws\", \"pos\", \"ner\"]).to_tuple()  # to tuple 可以自动转换为元组格式\n",
    "# 使用元组格式作为返回结果\n",
    "print(cws)\n",
    "print(pos)\n",
    "print(ner)"
   ]
  },
  {
   "cell_type": "code",
   "execution_count": 14,
   "metadata": {},
   "outputs": [
    {
     "name": "stdout",
     "output_type": "stream",
     "text": [
      "[['隔离', '结束', '回来', '，', '发现', '公司', '不见', '了', '”', '，', '网上', '的', '段子', '，', '真', '发生', '在', '了', '昆山', '达鑫', '电子', '有限公司', '员工', '身上']]\n",
      "[['v', 'v', 'v', 'wp', 'v', 'n', 'v', 'u', 'wp', 'wp', 'nl', 'u', 'n', 'wp', 'd', 'v', 'p', 'u', 'ns', 'nz', 'n', 'n', 'n', 'nl']]\n",
      "[[('Ni', '昆山达鑫电子有限公司')]]\n"
     ]
    }
   ],
   "source": [
    "text5 = \"隔离结束回来，发现公司不见了”，网上的段子，真发生在了昆山达鑫电子有限公司员工身上\"\n",
    "\n",
    "cws, pos, ner = ltp.pipeline([text5], tasks=[\"cws\", \"pos\", \"ner\"]).to_tuple()  # to tuple 可以自动转换为元组格式\n",
    "# 使用元组格式作为返回结果\n",
    "print(cws)\n",
    "print(pos)\n",
    "print(ner)"
   ]
  },
  {
   "cell_type": "code",
   "execution_count": 35,
   "metadata": {},
   "outputs": [
    {
     "name": "stdout",
     "output_type": "stream",
     "text": [
      "['《冒险小王子》作者周艺文先生，教育、文学领域的专家学者以及来自全国各地的出版业从业者参加了此次沙龙，并围绕儿童文学创作这一话题做了精彩的分享与交流。']\n",
      "[['《', '冒险', '小', '王子', '》', '作者', '周艺文', '先生', '，', '教育', '、', '文学', '领域', '的', '专家', '学者', '以及', '来自', '全国', '各地', '的', '出版业', '从业者', '参加', '了', '此次', '沙龙', '，', '并', '围绕', '儿童文学', '创作', '这', '一', '话题', '做', '了', '精彩', '的', '分享', '与', '交流', '。']]\n",
      "[['wp', 'v', 'a', 'n', 'wp', 'n', 'nh', 'n', 'wp', 'v', 'wp', 'n', 'n', 'u', 'n', 'n', 'c', 'v', 'n', 'r', 'u', 'n', 'n', 'v', 'u', 'r', 'n', 'wp', 'c', 'v', 'i', 'v', 'r', 'm', 'n', 'v', 'u', 'a', 'u', 'v', 'c', 'v', 'wp']]\n",
      "[[('Nh', '周艺文')]]\n"
     ]
    }
   ],
   "source": [
    "from ltp import StnSplit\n",
    "\n",
    "text6 = \"《冒险小王子》作者周艺文先生，教育、文学领域的专家学者以及来自全国各地的出版业从业者参加了此次沙龙，并围绕儿童文学创作这一话题做了精彩的分享与交流。\"\n",
    "sents = StnSplit().batch_split([text6])\n",
    "print(sents)\n",
    "\n",
    "cws, pos, ner = ltp.pipeline([text6], tasks=[\"cws\", \"pos\", \"ner\"]).to_tuple()  # to tuple 可以自动转换为元组格式\n",
    "# 使用元组格式作为返回结果\n",
    "print(cws)\n",
    "print(pos)\n",
    "print(ner)"
   ]
  },
  {
   "cell_type": "code",
   "execution_count": 36,
   "metadata": {},
   "outputs": [
    {
     "name": "stdout",
     "output_type": "stream",
     "text": [
      "['宋应星是江西奉新人，公元1587年生，经历过明朝腐败至灭亡的最后时期。']\n",
      "[['宋应星', '是', '江西', '奉新人', '，', '公元', '1587年', '生', '，', '经历', '过', '明朝', '腐败', '至', '灭亡', '的', '最后', '时期', '。']]\n",
      "[['nh', 'v', 'ns', 'n', 'wp', 'n', 'nt', 'v', 'wp', 'v', 'u', 'nt', 'a', 'p', 'v', 'u', 'nd', 'n', 'wp']]\n",
      "[[('Nh', '宋应星'), ('Ns', '江西')]]\n"
     ]
    }
   ],
   "source": [
    "from ltp import StnSplit\n",
    "\n",
    "text7 = \"宋应星是江西奉新人，公元1587年生，经历过明朝腐败至灭亡的最后时期。\"\n",
    "sents = StnSplit().batch_split([text7])\n",
    "print(sents)\n",
    "\n",
    "cws, pos, ner = ltp.pipeline([text7], tasks=[\"cws\", \"pos\", \"ner\"]).to_tuple()  # to tuple 可以自动转换为元组格式\n",
    "# 使用元组格式作为返回结果\n",
    "print(cws)\n",
    "print(pos)\n",
    "print(ner)"
   ]
  },
  {
   "cell_type": "code",
   "execution_count": 38,
   "metadata": {},
   "outputs": [
    {
     "name": "stdout",
     "output_type": "stream",
     "text": [
      "['韩愈，字退之，河阳（今河南孟县）人。']\n",
      "[['韩愈', '，', '字', '退', '之', '，', '河阳', '（', '今', '河南', '孟县', '）', '人', '。']]\n",
      "[['nh', 'wp', 'n', 'v', 'r', 'wp', 'ns', 'wp', 'nt', 'ns', 'ns', 'wp', 'n', 'wp']]\n",
      "[[('Nh', '韩愈'), ('Ns', '河阳'), ('Ns', '河南'), ('Ns', '孟县')]]\n"
     ]
    }
   ],
   "source": [
    "from ltp import StnSplit\n",
    "\n",
    "text8 = \"韩愈，字退之，河阳（今河南孟县）人。\"\n",
    "sents = StnSplit().batch_split([text8])\n",
    "print(sents)\n",
    "\n",
    "cws, pos, ner = ltp.pipeline([text8], tasks=[\"cws\", \"pos\", \"ner\"]).to_tuple()  # to tuple 可以自动转换为元组格式\n",
    "# 使用元组格式作为返回结果\n",
    "print(cws)\n",
    "print(pos)\n",
    "print(ner)"
   ]
  },
  {
   "cell_type": "code",
   "execution_count": 44,
   "metadata": {},
   "outputs": [
    {
     "name": "stdout",
     "output_type": "stream",
     "text": [
      "['杨广是隋文帝杨坚的第二个儿子。']\n",
      "[['杨广', '是', '隋文帝', '杨坚', '的', '第二', '个', '儿子', '。']]\n",
      "[['nh', 'v', 'nh', 'nh', 'u', 'm', 'q', 'n', 'wp']]\n",
      "[{'head': [2, 0, 8, 3, 4, 7, 8, 2, 2], 'label': ['EXP', 'Root', 'FEAT', 'FEAT', 'mDEPD', 'MEAS', 'MEAS', 'LINK', 'mPUNC']}]\n",
      "[[{'predicate': '是', 'arguments': [('A0', '杨广'), ('A1', '隋文帝杨坚的第二个儿子')]}]]\n",
      "[[('Nh', '杨广'), ('Nh', '隋文帝'), ('Nh', '杨坚')]]\n",
      "[{'head': [2, 0, 4, 8, 4, 7, 8, 2, 2], 'label': ['SBV', 'HED', 'ATT', 'ATT', 'RAD', 'ATT', 'ATT', 'VOB', 'WP']}]\n",
      "[[(1, 2, 'EXP'), (2, 0, 'Root'), (3, 8, 'FEAT'), (4, 3, 'FEAT'), (5, 4, 'mDEPD'), (6, 7, 'MEAS'), (7, 8, 'MEAS'), (8, 2, 'LINK'), (9, 2, 'mPUNC')]]\n"
     ]
    }
   ],
   "source": [
    "from ltp import StnSplit\n",
    "ltp = LTP()\n",
    "\n",
    "text9 = \"杨广是隋文帝杨坚的第二个儿子。\"\n",
    "sents = StnSplit().batch_split([text9])\n",
    "print(sents)\n",
    "\n",
    "\n",
    "output = ltp.pipeline(sents, tasks=[\"cws\", \"pos\", \"ner\", \"srl\", \"dep\", \"sdp\", \"sdpg\"])\n",
    "print(output.srl)\n",
    "print(output.ner)\n",
    "\n",
    "\n",
    "# cws, pos, ner = ltp.pipeline([text9], tasks=[\"cws\", \"pos\", \"ner\"]).to_tuple()  # to tuple 可以自动转换为元组格式\n",
    "# # 使用元组格式作为返回结果\n",
    "# print(cws)\n",
    "# print(pos)\n",
    "# print(ner)"
   ]
  },
  {
   "cell_type": "code",
   "execution_count": 53,
   "metadata": {},
   "outputs": [
    {
     "name": "stdout",
     "output_type": "stream",
     "text": [
      "['此次权益变动后，何金明与妻子宋琦、其子何浩不再拥有对上市公司的控制权。']\n",
      "[[{'predicate': '拥有', 'arguments': [('ARGM-TMP', '此次权益变动后'), ('A0', '何金明与妻子宋琦、其子何浩'), ('ARGM-ADV', '不再'), ('A1', '对上市公司的控制权')]}]]\n",
      "[[('Nh', '何金明'), ('Nh', '宋琦'), ('Nh', '何浩')]]\n"
     ]
    }
   ],
   "source": [
    "from ltp import StnSplit\n",
    "ltp = LTP()\n",
    "\n",
    "text10 = \"此次权益变动后，何金明与妻子宋琦、其子何浩不再拥有对上市公司的控制权。\"\n",
    "sents = StnSplit().batch_split([text10])\n",
    "print(sents)\n",
    "\n",
    "\n",
    "output = ltp.pipeline(sents, tasks=[\"cws\", \"pos\", \"ner\", \"srl\", \"dep\", \"sdp\", \"sdpg\"])\n",
    "print(output.srl)\n",
    "print(output.ner)"
   ]
  },
  {
   "cell_type": "code",
   "execution_count": 54,
   "metadata": {},
   "outputs": [
    {
     "name": "stdout",
     "output_type": "stream",
     "text": [
      "['土木之变后，造就了明代杰出的民族英雄于谦。']\n",
      "[[{'predicate': '造就', 'arguments': [('ARGM-TMP', '土木之变后'), ('A1', '明代杰出的民族英雄于谦')]}, {'predicate': '杰出', 'arguments': [('A0', '于谦')]}]]\n",
      "[[('Nh', '于谦')]]\n"
     ]
    }
   ],
   "source": [
    "from ltp import StnSplit\n",
    "ltp = LTP()\n",
    "\n",
    "text11 = \"土木之变后，造就了明代杰出的民族英雄于谦。\"\n",
    "sents = StnSplit().batch_split([text11])\n",
    "print(sents)\n",
    "\n",
    "\n",
    "output = ltp.pipeline(sents, tasks=[\"cws\", \"pos\", \"ner\", \"srl\", \"dep\", \"sdp\", \"sdpg\"])\n",
    "print(output.srl)\n",
    "print(output.ner)"
   ]
  },
  {
   "cell_type": "code",
   "execution_count": 86,
   "metadata": {},
   "outputs": [
    {
     "name": "stdout",
     "output_type": "stream",
     "text": [
      "['菲律宾军方表示，3天的菲美海上合作活动从巴丹群岛附近启动，于南海结束演练。', '菲律宾空军派出2架FA-50战机和一架超级巨嘴鸟攻击机，美军方面则有濒海战斗舰吉佛兹号和一架P8-A海神式海上巡逻机参与。']\n",
      "[['菲律宾', '军方', '表示', '，', '3', '天', '的', '菲', '美', '海上', '合作', '活动', '从', '巴', '丹', '群岛', '附近', '启动', '，', '于', '南海', '结束', '演练', '。'], ['菲律宾', '空军', '派出', '2', '架', 'FA-50', '战机', '和', '一', '架', '超级巨嘴鸟', '攻击机', '，', '美军', '方面', '则', '有', '濒海战斗舰', '吉佛兹号', '和', '一', '架', 'P8-A', '海神式', '海上', '巡逻机', '参与', '。']]\n",
      "[[{'predicate': '表示', 'arguments': [('A0', '菲律宾军方'), ('A1', '3天的菲美海上合作活动从巴丹群岛附近启动，于南海结束演练')]}, {'predicate': '启动', 'arguments': [('A1', '3天的菲美海上合作活动'), ('ARGM-LOC', '从巴丹群岛附近')]}, {'predicate': '结束', 'arguments': [('ARGM-LOC', '于南海'), ('A1', '演练')]}], [{'predicate': '派出', 'arguments': [('A0', '菲律宾空军'), ('A1', '2架FA-50战机和一架超级巨嘴鸟攻击机')]}, {'predicate': '有', 'arguments': [('A0', '美军方面'), ('ARGM-DIS', '则'), ('A1', '濒海战斗舰吉佛兹号和一架P8-A海神式海上巡逻机参与')]}, {'predicate': '参与', 'arguments': [('A0', '濒海战斗舰吉佛兹号和一架P8-A海神式海上巡逻机')]}]]\n",
      "[[('Ns', '菲律宾'), ('Ns', '美'), ('Ns', '巴'), ('Ns', '丹'), ('Ns', '南海')], [('Ns', '菲律宾')]]\n"
     ]
    }
   ],
   "source": [
    "from ltp import StnSplit\n",
    "ltp = LTP()\n",
    "# ltp.add_words(words=[\"巴丹\", \"美国\", \"国\"], freq = 20)\n",
    "ltp.add_words(words=[\"超级巨嘴鸟\", \"濒海战斗舰\", \"攻击机\", \"战机\"], freq = 1000)\n",
    "# text12 = \"孙杨的妈妈叫杨明，孙杨的名字后面一个字也是来源于她的名字。\"\n",
    "# text12 = \"P-8A海上巡逻机（P-8A Poseidon），是美国波音公司设计生产的新一代海上巡逻机。\"\n",
    "# text12 = \"美军方面则有濒海战斗舰吉佛兹号和一架P8-A海神式海上巡逻机参与联合巡逻\"\n",
    "text12 = \"菲律宾军方表示，3天的菲美海上合作活动从巴丹群岛附近启动，于南海结束演练。菲律宾空军派出2架FA-50战机和一架超级巨嘴鸟攻击机，美军方面则有濒海战斗舰吉佛兹号和一架P8-A海神式海上巡逻机参与。\"\n",
    "# text12 = \"菲美联合海空巡逻周四结束，菲律宾战机和舰艇在过去3天巡逻近台湾的巴丹群岛，并在南海进行通行与战术演习，以强化菲美区域合作与联合行动力。\"\n",
    "\n",
    "\n",
    "\n",
    "sents = StnSplit().batch_split([text12])\n",
    "print(sents)\n",
    "\n",
    "\n",
    "output = ltp.pipeline(sents, tasks=[\"cws\", \"pos\", \"ner\", \"srl\", \"dep\", \"sdp\", \"sdpg\"])\n",
    "# print(output.srl[0], len(output.srl))\n",
    "# print(output.srl[1], len(output.srl))\n",
    "print(output.cws)\n",
    "print(output.srl)\n",
    "print(output.ner)"
   ]
  }
 ],
 "metadata": {
  "kernelspec": {
   "display_name": "Python 3",
   "language": "python",
   "name": "python3"
  },
  "language_info": {
   "codemirror_mode": {
    "name": "ipython",
    "version": 3
   },
   "file_extension": ".py",
   "mimetype": "text/x-python",
   "name": "python",
   "nbconvert_exporter": "python",
   "pygments_lexer": "ipython3",
   "version": "3.9.6"
  }
 },
 "nbformat": 4,
 "nbformat_minor": 2
}
