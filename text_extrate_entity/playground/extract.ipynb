{
 "cells": [
  {
   "cell_type": "code",
   "execution_count": null,
   "metadata": {},
   "outputs": [],
   "source": [
    "import os\n",
    "import sys\n",
    "\n",
    "rootPath = os.path.dirname(os.path.dirname(os.path.abspath(__file__)))\n",
    "sys.path.append(rootPath)\n",
    "from Proj2.extract_class import ReextractBertTrainHandler\n",
    "\n",
    "params = {\n",
    "    \"maxlen\": 128,\n",
    "    \"batch_size\": 32,\n",
    "    \"epoch\": 1,\n",
    "    \"train_data_path\":rootPath + \"/data/train_data.json\",\n",
    "    \"dev_data_path\": rootPath + \"/data/valid_data.json\",\n",
    "}\n",
    "\n",
    "model = ReextractBertTrainHandler(params, Train=True)\n",
    "\n",
    "model.train()\n",
    "text = \"马志舟，1907年出生，陕西三原人，汉族，中国共产党，任红四团第一连连长，1933年逝世\"\n",
    "print(model.predict(text))"
   ]
  }
 ],
 "metadata": {
  "language_info": {
   "name": "python"
  }
 },
 "nbformat": 4,
 "nbformat_minor": 2
}
