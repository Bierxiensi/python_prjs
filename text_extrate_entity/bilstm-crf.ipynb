{
 "cells": [
  {
   "cell_type": "code",
   "execution_count": 1,
   "metadata": {},
   "outputs": [],
   "source": [
    "import json\n",
    "\n",
    "def bio_tagging(text, entities):\n",
    "    bio_tags = ['O'] * len(text)\n",
    "    for start, end, label in entities:\n",
    "        for i in range(start, end+1):\n",
    "            if i == start:\n",
    "                bio_tags[i] = 'B-' + label\n",
    "            else:\n",
    "                bio_tags[i] = 'I-' + label\n",
    "    tokens = []\n",
    "    for char in text:\n",
    "        tokens.append(char)\n",
    "    token_bio_tags = [(token, bio_tag) for token, bio_tag in zip(tokens, bio_tags)]\n",
    "    return token_bio_tags\n",
    "\n",
    "def generate_bio():\n",
    "    with open('entity.txt', 'w', encoding='utf-8') as file:\n",
    "        with open(\"./data/entity.json\", \"r\", encoding=\"utf-8\") as f:\n",
    "            object_data = json.loads(f.read())\n",
    "            for item in object_data:\n",
    "                text = item['text']\n",
    "                entities = item['entities']\n",
    "                tagged_tokens = bio_tagging(text, entities)\n",
    "                for token, bio_tag in tagged_tokens:\n",
    "                    file.write(f\"{token} {bio_tag}\\n\")\n",
    "\n",
    "def generate_test():\n",
    "    text = \"F-15鹰式战斗机，是一款美国开发生产的全天候、高机动性的战术战斗机。针对获得与维持空优而设计的它，是美国空军现役的主力战斗机之一。F-15是由1962年展开的F-X计划发展出来。按照原先的欧美标准被归类为第三代战斗机（现在已和俄罗斯标准统一为第四代战机），与F-16，美国海军的F-14、F-18，法国的幻影2000，俄罗斯的米格-29、米格-31、米格-35、Su-27、Su-30，中国的J-10、J-11等是同一世代。F-15已经出口到日本、以色列、韩国、新加坡、沙特等国家。\"\n",
    "    with open('test.txt', 'w', encoding='utf-8') as file:\n",
    "        for char in text:\n",
    "            file.write(f\"{char}\\n\")\n",
    "\n",
    "def read_data(file_path):\n",
    "    # 读取数据集\n",
    "    with open(file_path, \"r\", encoding=\"utf-8\") as f:\n",
    "        content = [_.strip() for _ in f.readlines()]\n",
    "\n",
    "    # 添加原文句子以及该句子的标签\n",
    "\n",
    "    # 读取空行所在的行号\n",
    "    index = [-1]\n",
    "    index.extend([i for i, _ in enumerate(content) if ' ' not in _])\n",
    "    index.append(len(content))\n",
    "\n",
    "    # 按空行分割，读取原文句子及标注序列\n",
    "    sentences, tags = [], []\n",
    "    for j in range(len(index)-1):\n",
    "        sent, tag = [], []\n",
    "        segment = content[index[j]+1: index[j+1]]\n",
    "        for line in segment:\n",
    "            sent.append(line.split()[0])\n",
    "            tag.append(line.split()[-1])\n",
    "\n",
    "        sentences.append(''.join(sent))\n",
    "        tags.append(tag)\n",
    "\n",
    "    # 去除空的句子及标注序列，一般放在末尾\n",
    "    sentences = [_ for _ in sentences if _]\n",
    "    tags = [_ for _ in tags if _]\n",
    "\n",
    "    return sentences, tags\n",
    "\n",
    "def label2id():\n",
    "    train_sents, train_tags = read_data('./entity.txt')\n",
    "    # 标签转换成id，并保存成文件\n",
    "    unique_tags = []\n",
    "    for seq in train_tags:\n",
    "        for _ in seq:\n",
    "            if _ not in unique_tags:\n",
    "                unique_tags.append(_)\n",
    "\n",
    "    label_id_dict = dict(zip(unique_tags, range(1, len(unique_tags) + 1)))\n",
    "    with open(\"label2id.json\", \"w\", encoding=\"utf-8\") as g:\n",
    "        g.write(json.dumps(label_id_dict, ensure_ascii=False, indent=2))\n",
    "# label2id()"
   ]
  },
  {
   "cell_type": "code",
   "execution_count": 2,
   "metadata": {},
   "outputs": [
    {
     "name": "stdout",
     "output_type": "stream",
     "text": [
      "{'B-WEAPON': 1, 'I-WEAPON': 2, 'O': 3, 'B-COUNTRY': 4, 'I-COUNTRY': 5, 'B-EVENT': 6, 'I-EVENT': 7, 'B-LOC': 8, 'I-LOC': 9}\n"
     ]
    }
   ],
   "source": [
    "# 读取label2id字典\n",
    "with open(\"./label2id.json\", \"r\", encoding=\"utf-8\") as h:\n",
    "    label_id_dict = json.loads(h.read())\n",
    "id_label_dict = {v:k for k,v in label_id_dict.items()}\n",
    "\n",
    "print(label_id_dict)"
   ]
  },
  {
   "cell_type": "code",
   "execution_count": null,
   "metadata": {},
   "outputs": [],
   "source": []
  }
 ],
 "metadata": {
  "kernelspec": {
   "display_name": "Python 3",
   "language": "python",
   "name": "python3"
  },
  "language_info": {
   "codemirror_mode": {
    "name": "ipython",
    "version": 3
   },
   "file_extension": ".py",
   "mimetype": "text/x-python",
   "name": "python",
   "nbconvert_exporter": "python",
   "pygments_lexer": "ipython3",
   "version": "3.9.6"
  }
 },
 "nbformat": 4,
 "nbformat_minor": 2
}
