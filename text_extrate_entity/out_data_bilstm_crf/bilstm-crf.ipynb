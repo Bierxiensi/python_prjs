{
 "cells": [
  {
   "cell_type": "code",
   "execution_count": 6,
   "metadata": {},
   "outputs": [
    {
     "name": "stdout",
     "output_type": "stream",
     "text": [
      "4172 464 4172 464\n"
     ]
    }
   ],
   "source": [
    "\n",
    "import json\n",
    "import numpy as np\n",
    "import sklearn.model_selection\n",
    "from tensorflow.keras.utils import to_categorical\n",
    "from keras.preprocessing.sequence import pad_sequences\n",
    "\n",
    "# 读取label2id字典\n",
    "with open(\"../vocab/sent_vocab.json\", \"r\", encoding=\"utf-8\") as f:\n",
    "    entry = json.load(f)\n",
    "word2idx = entry['word2id']\n",
    "\n",
    "with open(\"../vocab/tag_vocab.json\", \"r\", encoding=\"utf-8\") as f:\n",
    "    entry = json.load(f)\n",
    "tag2idx = entry['tag2id']\n",
    "\n",
    "MAX_SEQ_LEN = 128\n",
    "\n",
    "\n",
    "# 将原始样本数据做初步处理\n",
    "def read_data(file_path):\n",
    "    # 读取数据集\n",
    "    with open(file_path, \"r\", encoding=\"utf-8\") as f:\n",
    "        content = [line.strip() for line in f.readlines()]\n",
    "\n",
    "    #根据空行判断每个句子的分割点，找出分割点存在index列表里\n",
    "    index = [-1]\n",
    "    #空行代表是一个句子的分割，一般行都是\"相 O\"形式，里面有一个空格；而空行只是一个\"\"，没有空格\n",
    "    index.extend([i for i, _ in enumerate(content) if ' ' not in _])\n",
    "    index.append(len(content))\n",
    "  \n",
    "    # 根据上述找好的每句话分割点的index位置，一句一句找出word和对应的tag\n",
    "    sentences, tags = [], []\n",
    "    for j in range(len(index)-1):\n",
    "        word, tag = [], []\n",
    "        #一个sentence就代表一句话\n",
    "        sentence = content[index[j]+1: index[j+1]]\n",
    "        for line in sentence:\n",
    "            word.append(line.split()[0])\n",
    "            tag.append(line.split()[-1])\n",
    "        #句子原文用字符串形式连在一起\n",
    "        sentences.append(''.join(word))\n",
    "        #一句话的所有tag组成一个list，最后再统一放到大的tags列表里\n",
    "        tags.append(tag)\n",
    "\n",
    "    # 去除空的句子及标注序列，一般放在末尾\n",
    "    sentences = [s for s in sentences if s]\n",
    "    tags = [t for t in tags if t]\n",
    "\n",
    "    return sentences, tags\n",
    "\n",
    "sentences, tags = read_data('./example.test')\n",
    "\n",
    "\n",
    "# count = word2idx[list(word2idx)[-1]]\n",
    "# print(count)\n",
    "\n",
    "# with open('entity.txt', 'w', encoding='utf-8') as file:\n",
    "#     for sentence in sentences:\n",
    "#         for word in sentence:\n",
    "#             if word not in word2idx.keys():\n",
    "#                 count = count+1\n",
    "#                 file.write(f\"\\\"{word}\\\": {count},\\n\")\n",
    "\n",
    "\n",
    "\n",
    "\n",
    "\n",
    "\n",
    "\n",
    "X = [[word2idx[w] for w in sentence] for sentence in sentences]\n",
    "y = [[tag2idx[t] for t in tag] for tag in tags]\n",
    "\n",
    "# 最大长度为特征维度\n",
    "MAX_SEQ_LEN = max([len(x) for x in X])\n",
    "\n",
    "X = pad_sequences(maxlen=MAX_SEQ_LEN, sequences=X, padding=\"post\", value=0)\n",
    "y = pad_sequences(maxlen=MAX_SEQ_LEN, sequences=y, padding=\"post\", value=tag2idx[\"O\"])\n",
    "\n",
    "X_train, X_test, y_train, y_test = sklearn.model_selection.train_test_split(X, y, test_size=0.1)\n",
    "# print(X)\n",
    "# print(y)\n",
    "# print(len(X), len(X[0]))\n",
    "# print(len(y), len(y[0]))\n",
    "# print(X_train, X_test, y_train, y_test)\n",
    "print(len(X_train), len(X_test), len(y_train), len(y_test))\n",
    "X_train = X_train[:100]\n",
    "X_test = X_test[:10]\n",
    "y_test = y_test[:10]"
   ]
  },
  {
   "cell_type": "code",
   "execution_count": 8,
   "metadata": {},
   "outputs": [
    {
     "name": "stdout",
     "output_type": "stream",
     "text": [
      "4554 577 13 24 24\n",
      "Epoch 1/10\n"
     ]
    },
    {
     "ename": "ValueError",
     "evalue": "Argument `output` must have rank (ndim) `target.ndim - 1`. Received: target.shape=(None, 577), output.shape=(None, 13)",
     "output_type": "error",
     "traceback": [
      "\u001b[0;31m---------------------------------------------------------------------------\u001b[0m",
      "\u001b[0;31mValueError\u001b[0m                                Traceback (most recent call last)",
      "Cell \u001b[0;32mIn[8], line 34\u001b[0m\n\u001b[1;32m     31\u001b[0m     history \u001b[38;5;241m=\u001b[39m model\u001b[38;5;241m.\u001b[39mfit(X_train, y_train, batch_size\u001b[38;5;241m=\u001b[39mBATCH_SIZE, epochs\u001b[38;5;241m=\u001b[39mEPOCHS, validation_split\u001b[38;5;241m=\u001b[39m\u001b[38;5;241m0.05\u001b[39m)\n\u001b[1;32m     32\u001b[0m     model\u001b[38;5;241m.\u001b[39msave(\u001b[38;5;124mf\u001b[39m\u001b[38;5;124m\"\u001b[39m\u001b[38;5;124mmodel.keras\u001b[39m\u001b[38;5;124m\"\u001b[39m)\n\u001b[0;32m---> 34\u001b[0m \u001b[43mtrain\u001b[49m\u001b[43m(\u001b[49m\u001b[43m)\u001b[49m\n",
      "Cell \u001b[0;32mIn[8], line 31\u001b[0m, in \u001b[0;36mtrain\u001b[0;34m()\u001b[0m\n\u001b[1;32m     29\u001b[0m BATCH_SIZE\u001b[38;5;241m=\u001b[39m\u001b[38;5;241m10\u001b[39m \u001b[38;5;66;03m# 训练很慢，所以提高批次大小\u001b[39;00m\n\u001b[1;32m     30\u001b[0m EPOCHS\u001b[38;5;241m=\u001b[39m\u001b[38;5;241m10\u001b[39m \u001b[38;5;66;03m# 训练代数\u001b[39;00m\n\u001b[0;32m---> 31\u001b[0m history \u001b[38;5;241m=\u001b[39m \u001b[43mmodel\u001b[49m\u001b[38;5;241;43m.\u001b[39;49m\u001b[43mfit\u001b[49m\u001b[43m(\u001b[49m\u001b[43mX_train\u001b[49m\u001b[43m,\u001b[49m\u001b[43m \u001b[49m\u001b[43my_train\u001b[49m\u001b[43m,\u001b[49m\u001b[43m \u001b[49m\u001b[43mbatch_size\u001b[49m\u001b[38;5;241;43m=\u001b[39;49m\u001b[43mBATCH_SIZE\u001b[49m\u001b[43m,\u001b[49m\u001b[43m \u001b[49m\u001b[43mepochs\u001b[49m\u001b[38;5;241;43m=\u001b[39;49m\u001b[43mEPOCHS\u001b[49m\u001b[43m,\u001b[49m\u001b[43m \u001b[49m\u001b[43mvalidation_split\u001b[49m\u001b[38;5;241;43m=\u001b[39;49m\u001b[38;5;241;43m0.05\u001b[39;49m\u001b[43m)\u001b[49m\n\u001b[1;32m     32\u001b[0m model\u001b[38;5;241m.\u001b[39msave(\u001b[38;5;124mf\u001b[39m\u001b[38;5;124m\"\u001b[39m\u001b[38;5;124mmodel.keras\u001b[39m\u001b[38;5;124m\"\u001b[39m)\n",
      "File \u001b[0;32m~/Library/Python/3.9/lib/python/site-packages/keras/src/utils/traceback_utils.py:122\u001b[0m, in \u001b[0;36mfilter_traceback.<locals>.error_handler\u001b[0;34m(*args, **kwargs)\u001b[0m\n\u001b[1;32m    119\u001b[0m     filtered_tb \u001b[38;5;241m=\u001b[39m _process_traceback_frames(e\u001b[38;5;241m.\u001b[39m__traceback__)\n\u001b[1;32m    120\u001b[0m     \u001b[38;5;66;03m# To get the full stack trace, call:\u001b[39;00m\n\u001b[1;32m    121\u001b[0m     \u001b[38;5;66;03m# `keras.config.disable_traceback_filtering()`\u001b[39;00m\n\u001b[0;32m--> 122\u001b[0m     \u001b[38;5;28;01mraise\u001b[39;00m e\u001b[38;5;241m.\u001b[39mwith_traceback(filtered_tb) \u001b[38;5;28;01mfrom\u001b[39;00m \u001b[38;5;28;01mNone\u001b[39;00m\n\u001b[1;32m    123\u001b[0m \u001b[38;5;28;01mfinally\u001b[39;00m:\n\u001b[1;32m    124\u001b[0m     \u001b[38;5;28;01mdel\u001b[39;00m filtered_tb\n",
      "File \u001b[0;32m~/Library/Python/3.9/lib/python/site-packages/keras/src/backend/tensorflow/nn.py:619\u001b[0m, in \u001b[0;36msparse_categorical_crossentropy\u001b[0;34m(target, output, from_logits, axis)\u001b[0m\n\u001b[1;32m    613\u001b[0m     \u001b[38;5;28;01mraise\u001b[39;00m \u001b[38;5;167;01mValueError\u001b[39;00m(\n\u001b[1;32m    614\u001b[0m         \u001b[38;5;124m\"\u001b[39m\u001b[38;5;124mArgument `output` must be at least rank 1. \u001b[39m\u001b[38;5;124m\"\u001b[39m\n\u001b[1;32m    615\u001b[0m         \u001b[38;5;124m\"\u001b[39m\u001b[38;5;124mReceived: \u001b[39m\u001b[38;5;124m\"\u001b[39m\n\u001b[1;32m    616\u001b[0m         \u001b[38;5;124mf\u001b[39m\u001b[38;5;124m\"\u001b[39m\u001b[38;5;124moutput.shape=\u001b[39m\u001b[38;5;132;01m{\u001b[39;00moutput\u001b[38;5;241m.\u001b[39mshape\u001b[38;5;132;01m}\u001b[39;00m\u001b[38;5;124m\"\u001b[39m\n\u001b[1;32m    617\u001b[0m     )\n\u001b[1;32m    618\u001b[0m \u001b[38;5;28;01mif\u001b[39;00m \u001b[38;5;28mlen\u001b[39m(target\u001b[38;5;241m.\u001b[39mshape) \u001b[38;5;241m!=\u001b[39m \u001b[38;5;28mlen\u001b[39m(output\u001b[38;5;241m.\u001b[39mshape[:\u001b[38;5;241m-\u001b[39m\u001b[38;5;241m1\u001b[39m]):\n\u001b[0;32m--> 619\u001b[0m     \u001b[38;5;28;01mraise\u001b[39;00m \u001b[38;5;167;01mValueError\u001b[39;00m(\n\u001b[1;32m    620\u001b[0m         \u001b[38;5;124m\"\u001b[39m\u001b[38;5;124mArgument `output` must have rank (ndim) `target.ndim - 1`. \u001b[39m\u001b[38;5;124m\"\u001b[39m\n\u001b[1;32m    621\u001b[0m         \u001b[38;5;124m\"\u001b[39m\u001b[38;5;124mReceived: \u001b[39m\u001b[38;5;124m\"\u001b[39m\n\u001b[1;32m    622\u001b[0m         \u001b[38;5;124mf\u001b[39m\u001b[38;5;124m\"\u001b[39m\u001b[38;5;124mtarget.shape=\u001b[39m\u001b[38;5;132;01m{\u001b[39;00mtarget\u001b[38;5;241m.\u001b[39mshape\u001b[38;5;132;01m}\u001b[39;00m\u001b[38;5;124m, output.shape=\u001b[39m\u001b[38;5;132;01m{\u001b[39;00moutput\u001b[38;5;241m.\u001b[39mshape\u001b[38;5;132;01m}\u001b[39;00m\u001b[38;5;124m\"\u001b[39m\n\u001b[1;32m    623\u001b[0m     )\n\u001b[1;32m    624\u001b[0m \u001b[38;5;28;01mfor\u001b[39;00m e1, e2 \u001b[38;5;129;01min\u001b[39;00m \u001b[38;5;28mzip\u001b[39m(target\u001b[38;5;241m.\u001b[39mshape, output\u001b[38;5;241m.\u001b[39mshape[:\u001b[38;5;241m-\u001b[39m\u001b[38;5;241m1\u001b[39m]):\n\u001b[1;32m    625\u001b[0m     \u001b[38;5;28;01mif\u001b[39;00m e1 \u001b[38;5;129;01mis\u001b[39;00m \u001b[38;5;129;01mnot\u001b[39;00m \u001b[38;5;28;01mNone\u001b[39;00m \u001b[38;5;129;01mand\u001b[39;00m e2 \u001b[38;5;129;01mis\u001b[39;00m \u001b[38;5;129;01mnot\u001b[39;00m \u001b[38;5;28;01mNone\u001b[39;00m \u001b[38;5;129;01mand\u001b[39;00m e1 \u001b[38;5;241m!=\u001b[39m e2:\n",
      "\u001b[0;31mValueError\u001b[0m: Argument `output` must have rank (ndim) `target.ndim - 1`. Received: target.shape=(None, 577), output.shape=(None, 13)"
     ]
    }
   ],
   "source": [
    "import tensorflow as tf\n",
    "import time\n",
    "from keras import Input, Model\n",
    "from keras_contrib.layers import CRF\n",
    "from keras.layers import Dense, Activation, Dropout, LSTM, GRU, Embedding, Bidirectional, TimeDistributed, Reshape\n",
    "from keras.models import Sequential, load_model\n",
    "\n",
    "def build_model(max_features, max_sentence_len, num_tag, embedding_size, hidden_size):\n",
    "    print(max_features, max_sentence_len, num_tag, embedding_size, hidden_size)\n",
    "    model = Sequential()\n",
    "    model.add(Embedding(max_features, embedding_size, input_length=max_sentence_len))\n",
    "    model.add(Bidirectional(LSTM(hidden_size, return_sequences=True, recurrent_dropout=0.1)))\n",
    "    model.add(TimeDistributed(Dense(hidden_size, activation=\"relu\")))\n",
    "    # crf_layer = CRF(num_tag, sparse_target=True)\n",
    "    # model.add(crf_layer)\n",
    "    # model.compile(loss=crf_layer.loss_function, optimizer='adam', metrics=[crf_layer.accuracy])\n",
    "    model.add(Reshape((-1,)))\n",
    "    model.add(Dense(num_tag, activation=\"softmax\"))  # 输出层大小等于标签的数量\n",
    "    model.compile(optimizer='adam', loss='sparse_categorical_crossentropy', metrics=['accuracy'])\n",
    "    return model\n",
    "# Build model\n",
    "\n",
    "\n",
    "def train():\n",
    "    embedding_size = 24\n",
    "    hidden_size = 24\n",
    "    model = build_model(len(word2idx), MAX_SEQ_LEN, len(tag2idx), embedding_size, hidden_size)\n",
    "    # model.summary()\n",
    "    BATCH_SIZE=10 # 训练很慢，所以提高批次大小\n",
    "    EPOCHS=10 # 训练代数\n",
    "    history = model.fit(X_train, y_train, batch_size=BATCH_SIZE, epochs=EPOCHS, validation_split=0.05)\n",
    "    model.save(f\"model.keras\")\n",
    "\n",
    "train()"
   ]
  },
  {
   "cell_type": "code",
   "execution_count": 7,
   "metadata": {},
   "outputs": [
    {
     "name": "stdout",
     "output_type": "stream",
     "text": [
      "\u001b[1m1/1\u001b[0m \u001b[32m━━━━━━━━━━━━━━━━━━━━\u001b[0m\u001b[37m\u001b[0m \u001b[1m3s\u001b[0m 3s/step - accuracy: 0.0000e+00 - loss: 71861.1094\n",
      "test loss, test acc: [71861.109375, 0.0]\n"
     ]
    }
   ],
   "source": [
    "# model = load_model('model/model20240514-153307.keras')\n",
    "model = load_model('model.keras')\n",
    "results = model.evaluate(X_test, y_test)\n",
    "print(\"test loss, test acc:\", results)"
   ]
  }
 ],
 "metadata": {
  "kernelspec": {
   "display_name": "Python 3",
   "language": "python",
   "name": "python3"
  },
  "language_info": {
   "codemirror_mode": {
    "name": "ipython",
    "version": 3
   },
   "file_extension": ".py",
   "mimetype": "text/x-python",
   "name": "python",
   "nbconvert_exporter": "python",
   "pygments_lexer": "ipython3",
   "version": "3.9.6"
  }
 },
 "nbformat": 4,
 "nbformat_minor": 2
}
