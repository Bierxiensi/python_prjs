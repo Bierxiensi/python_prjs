{
 "cells": [
  {
   "cell_type": "code",
   "execution_count": 1,
   "metadata": {},
   "outputs": [
    {
     "name": "stdout",
     "output_type": "stream",
     "text": [
      "Option A Bytecode:\n",
      "  5           0 LOAD_CONST               1 ('jason')\n",
      "              2 LOAD_CONST               2 (20)\n",
      "              4 LOAD_CONST               3 ('male')\n",
      "              6 LOAD_CONST               4 (('name', 'age', 'gender'))\n",
      "              8 BUILD_CONST_KEY_MAP      3\n",
      "             10 STORE_FAST               0 (d)\n",
      "             12 LOAD_CONST               0 (None)\n",
      "             14 RETURN_VALUE\n",
      "\n",
      "Option B Bytecode:\n",
      "  9           0 LOAD_GLOBAL              0 (dict)\n",
      "              2 LOAD_CONST               1 ('jason')\n",
      "              4 LOAD_CONST               2 (20)\n",
      "              6 LOAD_CONST               3 ('male')\n",
      "              8 LOAD_CONST               4 (('name', 'age', 'gender'))\n",
      "             10 BUILD_CONST_KEY_MAP      3\n",
      "             12 CALL_FUNCTION            1\n",
      "             14 STORE_FAST               0 (d)\n",
      "             16 LOAD_CONST               0 (None)\n",
      "             18 RETURN_VALUE\n"
     ]
    }
   ],
   "source": [
    "\n",
    "import dis\n",
    "\n",
    "# 选项A\n",
    "def option_a():\n",
    "    d = {'name': 'jason', 'age': 20, 'gender': 'male'}\n",
    "\n",
    "# 选项B\n",
    "def option_b():\n",
    "    d = dict({'name': 'jason', 'age': 20, 'gender': 'male'})\n",
    "\n",
    "# 分析选项A的字节码\n",
    "print(\"Option A Bytecode:\")\n",
    "dis.dis(option_a)\n",
    "\n",
    "# 分析选项B的字节码\n",
    "print(\"\\nOption B Bytecode:\")\n",
    "dis.dis(option_b)\n"
   ]
  }
 ],
 "metadata": {
  "kernelspec": {
   "display_name": "Python 3",
   "language": "python",
   "name": "python3"
  },
  "language_info": {
   "codemirror_mode": {
    "name": "ipython",
    "version": 3
   },
   "file_extension": ".py",
   "mimetype": "text/x-python",
   "name": "python",
   "nbconvert_exporter": "python",
   "pygments_lexer": "ipython3",
   "version": "3.9.6"
  }
 },
 "nbformat": 4,
 "nbformat_minor": 2
}
