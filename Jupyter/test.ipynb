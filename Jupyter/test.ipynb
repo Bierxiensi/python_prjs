{
 "cells": [
  {
   "cell_type": "code",
   "execution_count": 24,
   "metadata": {},
   "outputs": [],
   "source": [
    "from PIL import Image\n",
    "\n",
    "# 打开彩色图\n",
    "image = Image.open(\"./download.jpeg\")\n",
    "\n",
    "# 将图像转换为灰度图\n",
    "gray_image = image.convert(\"L\")\n",
    "\n",
    "# 获取图像的宽度和高度\n",
    "width, height = gray_image.size\n",
    "\n",
    "# 将灰度图中的每个像素设置为红色\n",
    "for x in range(width):\n",
    "    for y in range(height):\n",
    "        # Get the pixel value (grayscale value) at the current position\n",
    "        gray_value = gray_image.getpixel((x, y))\n",
    "\n",
    "        # Set the pixel value to red (R, G, B)\n",
    "        red_pixel = (gray_value, 0, 0)\n",
    "\n",
    "        # Update the pixel in the image\n",
    "        gray_image.putpixel((x, y), 255)\n",
    "\n",
    "# 保存结果\n",
    "#gray_image.save(\"red_image.jpg\")\n",
    "gray_image.show() "
   ]
  }
 ],
 "metadata": {
  "kernelspec": {
   "display_name": "Python 3",
   "language": "python",
   "name": "python3"
  },
  "language_info": {
   "codemirror_mode": {
    "name": "ipython",
    "version": 3
   },
   "file_extension": ".py",
   "mimetype": "text/x-python",
   "name": "python",
   "nbconvert_exporter": "python",
   "pygments_lexer": "ipython3",
   "version": "3.9.6"
  }
 },
 "nbformat": 4,
 "nbformat_minor": 2
}
