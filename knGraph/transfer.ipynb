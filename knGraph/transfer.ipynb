{
 "cells": [
  {
   "cell_type": "code",
   "execution_count": 1,
   "metadata": {},
   "outputs": [],
   "source": [
    "# -*- coding: utf-8 -*-\n",
    "# author: Jclian91\n",
    "# place: Pudong Shanghai\n",
    "# time: 2020-03-11 19:32\n",
    "import os, re, json, traceback\n",
    "\n",
    "with open(\"entity_dev.json\", \"r\", encoding=\"utf-8\") as f:\n",
    "    content = [_.strip() for _ in f.readlines()]\n",
    "\n",
    "f = open(\"entity_dev.csv\", \"w\", encoding=\"utf-8\")\n",
    "\n",
    "for line in content:\n",
    "    sample = json.loads(line)\n",
    "    text = sample[\"text\"]\n",
    "    tags = ['O'] * len(text)\n",
    "    for label, label_dict in sample[\"label\"].items():\n",
    "        for key, val in label_dict.items():\n",
    "            start_index = val[0][0]\n",
    "            tags[start_index] = 'B-%s' % label\n",
    "            end_index = val[0][1]\n",
    "            for i in range(start_index+1, end_index+1):\n",
    "                tags[i] = 'I-%s' % label\n",
    "\n",
    "    for char, tag in zip(text, tags):\n",
    "        f.write(char+' '+tag+'\\n')\n",
    "\n",
    "    f.write('\\n')"
   ]
  },
  {
   "cell_type": "code",
   "execution_count": 5,
   "metadata": {},
   "outputs": [
    {
     "name": "stdout",
     "output_type": "stream",
     "text": [
      "['B-company', 'I-company', 'I-company', 'I-company', 'O', 'O', 'O', 'O', 'O', 'B-name', 'I-name', 'I-name', 'O', 'O', 'O', 'O', 'O', 'O', 'O', 'O', 'O', 'O', 'O', 'O', 'O', 'O', 'O', 'O', 'O', 'O', 'O', 'O', 'O', 'O', 'O', 'O', 'O', 'O', 'O', 'O', 'O', 'O', 'O', 'O', 'O', 'O', 'O', 'O', 'O', 'O']\n"
     ]
    }
   ],
   "source": [
    "import json\n",
    "# 读取数据集\n",
    "def read_data(file_path):\n",
    "    # 读取数据集\n",
    "    with open(file_path, \"r\", encoding=\"utf-8\") as f:\n",
    "        content = [_.strip() for _ in f.readlines()]\n",
    "\n",
    "    # 添加原文句子以及该句子的标签\n",
    "\n",
    "    # 读取空行所在的行号\n",
    "    index = [-1]\n",
    "    index.extend([i for i, _ in enumerate(content) if ' ' not in _])\n",
    "    index.append(len(content))\n",
    "\n",
    "    # 按空行分割，读取原文句子及标注序列\n",
    "    sentences, tags = [], []\n",
    "    for j in range(len(index)-1):\n",
    "        sent, tag = [], []\n",
    "        segment = content[index[j]+1: index[j+1]]\n",
    "        for line in segment:\n",
    "            sent.append(line.split()[0])\n",
    "            tag.append(line.split()[-1])\n",
    "\n",
    "        sentences.append(''.join(sent))\n",
    "        tags.append(tag)\n",
    "\n",
    "    # 去除空的句子及标注序列，一般放在末尾\n",
    "    sentences = [_ for _ in sentences if _]\n",
    "    tags = [_ for _ in tags if _]\n",
    "\n",
    "    # print(sentences)\n",
    "    print(tags[0])\n",
    "    return sentences, tags\n",
    "# 将标签转换成id\n",
    "\n",
    "def label2id():\n",
    "    train_sents, train_tags = read_data('./entity_train.csv')\n",
    "\n",
    "    # 标签转换成id，并保存成文件\n",
    "    unique_tags = []\n",
    "    for seq in train_tags:\n",
    "        for _ in seq:\n",
    "            if _ not in unique_tags:\n",
    "                unique_tags.append(_)\n",
    "\n",
    "    label_id_dict = dict(zip(unique_tags, range(1, len(unique_tags) + 1)))\n",
    "\n",
    "    with open(\"label2id.json\", \"w\", encoding=\"utf-8\") as g:\n",
    "        g.write(json.dumps(label_id_dict, ensure_ascii=False, indent=2))\n",
    "label2id()"
   ]
  }
 ],
 "metadata": {
  "kernelspec": {
   "display_name": "Python 3",
   "language": "python",
   "name": "python3"
  },
  "language_info": {
   "codemirror_mode": {
    "name": "ipython",
    "version": 3
   },
   "file_extension": ".py",
   "mimetype": "text/x-python",
   "name": "python",
   "nbconvert_exporter": "python",
   "pygments_lexer": "ipython3",
   "version": "3.9.6"
  }
 },
 "nbformat": 4,
 "nbformat_minor": 2
}
