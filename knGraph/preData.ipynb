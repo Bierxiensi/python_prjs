{
 "cells": [
  {
   "cell_type": "code",
   "execution_count": 23,
   "metadata": {},
   "outputs": [
    {
     "data": {
      "image/png": "[encoded data removed]",
      "text/plain": [
       "<Figure size 640x480 with 1 Axes>"
      ]
     },
     "metadata": {},
     "output_type": "display_data"
    }
   ],
   "source": [
    "import pandas as pd\n",
    "import matplotlib.pyplot as plt\n",
    "\n",
    "# 读取EXCEL数据\n",
    "df = pd.read_csv('data.csv')\n",
    "label_list = list(df['relation'].value_counts().index)\n",
    "num_list = df['relation'].value_counts().tolist()\n",
    "\n",
    "# Mac系统设置中文字体支持\n",
    "plt.rcParams[\"font.family\"] = 'Arial Unicode MS'\n",
    "# Windows系统设置中文字体支持\n",
    "# plt.rcParams['font.sans-serif'] = ['SimHei']\n",
    "\n",
    "x = range(len(num_list))\n",
    "rects = plt.bar(x=x, height=num_list, width=0.6, color='blue', label=\"频数\")\n",
    "# plt.ylim(0, 800) # y轴范围\n",
    "plt.ylabel(\"数量\")\n",
    "plt.xticks([index + 0.1 for index in x], label_list)\n",
    "plt.xticks(rotation=45)     # x轴的标签旋转45度\n",
    "plt.xlabel(\"军情信息关系\")\n",
    "plt.title(\"军情信息关系频数统计\")\n",
    "plt.legend()\n",
    "\n",
    "# 条形图的文字说明\n",
    "for rect in rects:\n",
    "    height = rect.get_height()\n",
    "    plt.text(rect.get_x() + rect.get_width() / 2, height+1, str(height), ha=\"center\", va=\"bottom\")\n",
    "\n",
    "plt.show()\n",
    "# plt.savefig('./bar_chart.png')"
   ]
  },
  {
   "cell_type": "code",
   "execution_count": 2,
   "metadata": {},
   "outputs": [
    {
     "name": "stdout",
     "output_type": "stream",
     "text": [
      "{'属于': 1, '参加': 2, '参与': 3, '发生': 4}   entrity1      entrity2 relation  \\\n",
      "0       美国     P8-A海上巡逻机       属于   \n",
      "1     联合巡逻  P8-A海神式海上巡逻机       参加   \n",
      "2  FA-50战机           菲律宾       属于   \n",
      "3       巡逻           菲律宾       参与   \n",
      "4       巡逻          巴丹群岛       发生   \n",
      "\n",
      "                                                text  dict  \n",
      "0     P-8A海上巡逻机（P-8A Poseidon），是美国波音公司设计生产的新一代海上巡逻机。     1  \n",
      "1              美军方面则有濒海战斗舰吉佛兹号和一架P8-A海神式海上巡逻机参与联合巡逻。     2  \n",
      "2  菲律宾军方表示，3天的菲美海上合作活动从巴丹群岛附近启动，于南海结束演练。菲律宾空军派出2架...     1  \n",
      "3  菲美联合海空巡逻周四结束，菲律宾战机和舰艇在过去3天巡逻近台湾的巴丹群岛，并在南海进行通行与...     3  \n",
      "4  菲美联合海空巡逻周四结束，菲律宾战机和舰艇在过去3天巡逻近台湾的巴丹群岛，并在南海进行通行与...     4  \n"
     ]
    }
   ],
   "source": [
    "relations = list(df['relation'].unique())\n",
    "relation_dict = {}\n",
    "relation_dict.update(dict(zip(relations, range(1, len(relations)+1))))\n",
    "df['dict'] = df['relation'].apply(lambda x: relation_dict[x])\n",
    "print(relation_dict, df)"
   ]
  },
  {
   "cell_type": "code",
   "execution_count": 3,
   "metadata": {},
   "outputs": [
    {
     "name": "stdout",
     "output_type": "stream",
     "text": [
      "relation\n",
      "属于    2\n",
      "参加    1\n",
      "参与    1\n",
      "发生    1\n",
      "Name: count, dtype: int64\n",
      "  entrity1      entrity2 relation  \\\n",
      "0       美国     P8-A海上巡逻机       属于   \n",
      "1     联合巡逻  P8-A海神式海上巡逻机       参加   \n",
      "2  FA-50战机           菲律宾       属于   \n",
      "3       巡逻           菲律宾       参与   \n",
      "4       巡逻          巴丹群岛       发生   \n",
      "\n",
      "                                                text  dict  rel  \n",
      "0  美国$P8-A海上巡逻机$P-8A海上巡逻机（P-8A Poseidon），是##波音公司设...     1    1  \n",
      "1  联合巡逻$P8-A海神式海上巡逻机$美军方面则有濒海战斗舰吉佛兹号和一架##########...     2    2  \n",
      "2  FA-50战机$菲律宾$###军方表示，3天的菲美海上合作活动从巴丹群岛附近启动，于南海结束...     1    1  \n",
      "3  巡逻$菲律宾$菲美联合海空##周四结束，###战机和舰艇在过去3天##近台湾的巴丹群岛，并在...     3    3  \n",
      "4  巡逻$巴丹群岛$菲美联合海空##周四结束，菲律宾战机和舰艇在过去3天##近台湾的####，并...     4    4  \n"
     ]
    }
   ],
   "source": [
    "print(df['relation'].value_counts())\n",
    "df['rel'] = df['relation'].apply(lambda x: relation_dict[x])\n",
    "\n",
    "texts = []\n",
    "for per1, per2, text in zip(df['entrity1'].tolist(), df['entrity2'].tolist(), df['text'].tolist()):\n",
    "    text = '$'.join([per1, per2, text.replace(per1, len(per1)*'#').replace(per2, len(per2)*'#')])\n",
    "    texts.append(text)\n",
    "\n",
    "df['text'] = texts\n",
    "print(df)"
   ]
  },
  {
   "cell_type": "code",
   "execution_count": 4,
   "metadata": {},
   "outputs": [],
   "source": [
    "train_df = df.sample(frac=0.8, random_state=1024)\n",
    "test_df = df.drop(train_df.index)\n",
    "\n",
    "with open('train.txt', 'w', encoding='utf-8') as f:\n",
    "    for text, rel in zip(train_df['text'].tolist(), train_df['dict'].tolist()):\n",
    "        f.write(str(rel)+' '+text+'\\n')\n",
    "\n",
    "with open('test.txt', 'w', encoding='utf-8') as g:\n",
    "    for text, rel in zip(test_df['text'].tolist(), test_df['dict'].tolist()):\n",
    "        g.write(str(rel)+' '+text+'\\n')"
   ]
  },
  {
   "cell_type": "markdown",
   "metadata": {},
   "source": []
  },
  {
   "cell_type": "code",
   "execution_count": 5,
   "metadata": {},
   "outputs": [
    {
     "name": "stdout",
     "output_type": "stream",
     "text": [
      "  label                                               text\n",
      "0     1  FA-50战机$菲律宾$###军方表示，3天的菲美海上合作活动从巴丹群岛附近启动，于南海结束...\n",
      "1     1  美国$P8-A海上巡逻机$P-8A海上巡逻机（P-8APoseidon），是##波音公司设计...\n",
      "2     4  巡逻$巴丹群岛$菲美联合海空##周四结束，菲律宾战机和舰艇在过去3天##近台湾的####，并...\n",
      "3     2  联合巡逻$P8-A海神式海上巡逻机$美军方面则有濒海战斗舰吉佛兹号和一架##########...\n",
      "  label                                               text\n",
      "0     3  巡逻$菲律宾$菲美联合海空##周四结束，###战机和舰艇在过去3天##近台湾的巴丹群岛，并在...\n",
      "         text_len\n",
      "count    4.000000\n",
      "mean    74.500000\n",
      "std     25.252063\n",
      "min     55.000000\n",
      "25%     57.250000\n",
      "50%     66.500000\n",
      "75%     83.750000\n",
      "max    110.000000\n"
     ]
    }
   ],
   "source": [
    "# 读取txt文件\n",
    "def read_txt_file(file_path):\n",
    "    with open(file_path, 'r', encoding='utf-8') as f:\n",
    "        content = [_.strip() for _ in f.readlines()]\n",
    "\n",
    "    labels, texts = [], []\n",
    "    for line in content:\n",
    "        parts = line.split()\n",
    "        label, text = parts[0], ''.join(parts[1:])\n",
    "        labels.append(label)\n",
    "        texts.append(text)\n",
    "\n",
    "    return labels, texts\n",
    "\n",
    "# 获取训练数据和测试数据，格式为pandas的DataFrame\n",
    "def get_train_test_pd():\n",
    "    file_path = './train.txt'\n",
    "    labels, texts = read_txt_file(file_path)\n",
    "    train_df = pd.DataFrame({'label': labels, 'text': texts})\n",
    "\n",
    "    file_path = './test.txt'\n",
    "    labels, texts = read_txt_file(file_path)\n",
    "    test_df = pd.DataFrame({'label': labels, 'text': texts})\n",
    "\n",
    "    return train_df, test_df\n",
    "\n",
    "\n",
    "if __name__ == '__main__':\n",
    "\n",
    "    train_df, test_df = get_train_test_pd()\n",
    "    print(train_df.head())\n",
    "    print(test_df.head())\n",
    "\n",
    "    train_df['text_len'] = train_df['text'].apply(lambda x: len(x))\n",
    "    print(train_df.describe())"
   ]
  },
  {
   "cell_type": "code",
   "execution_count": 10,
   "metadata": {},
   "outputs": [
    {
     "name": "stderr",
     "output_type": "stream",
     "text": [
      "/Users/bierxiensi/Library/Python/3.9/lib/python/site-packages/tqdm/auto.py:21: TqdmWarning: IProgress not found. Please update jupyter and ipywidgets. See https://ipywidgets.readthedocs.io/en/stable/user_install.html\n",
      "  from .autonotebook import tqdm as notebook_tqdm\n"
     ]
    },
    {
     "name": "stdout",
     "output_type": "stream",
     "text": [
      "begin encoding\n",
      "0    FA-50战机$菲律宾$###军方表示，3天的菲美海上合作活动从巴丹群岛附近启动，于南海结束...\n",
      "1    美国$P8-A海上巡逻机$P-8A海上巡逻机（P-8APoseidon），是##波音公司设计...\n",
      "2    巡逻$巴丹群岛$菲美联合海空##周四结束，菲律宾战机和舰艇在过去3天##近台湾的####，并...\n",
      "3    联合巡逻$P8-A海神式海上巡逻机$美军方面则有濒海战斗舰吉佛兹号和一架##########...\n",
      "Name: text, dtype: object\n",
      "  label                                               text  \\\n",
      "0     1  FA-50战机$菲律宾$###军方表示，3天的菲美海上合作活动从巴丹群岛附近启动，于南海结束...   \n",
      "1     1  美国$P8-A海上巡逻机$P-8A海上巡逻机（P-8APoseidon），是##波音公司设计...   \n",
      "2     4  巡逻$巴丹群岛$菲美联合海空##周四结束，菲律宾战机和舰艇在过去3天##近台湾的####，并...   \n",
      "3     2  联合巡逻$P8-A海神式海上巡逻机$美军方面则有濒海战斗舰吉佛兹号和一架##########...   \n",
      "\n",
      "                                                   x  \n",
      "0  [101, 12289, 118, 8145, 2773, 3322, 109, 5838,...  \n",
      "1  [101, 5401, 1744, 109, 158, 8156, 118, 143, 38...  \n",
      "2  [101, 2337, 6872, 109, 2349, 710, 5408, 2270, ...  \n",
      "3  [101, 5468, 1394, 2337, 6872, 109, 158, 8156, ...     label                                               text  \\\n",
      "0     3  巡逻$菲律宾$菲美联合海空##周四结束，###战机和舰艇在过去3天##近台湾的巴丹群岛，并在...   \n",
      "\n",
      "                                                   x  \n",
      "0  [101, 2337, 6872, 109, 5838, 2526, 2161, 109, ...  \n",
      "end encoding\n"
     ]
    }
   ],
   "source": [
    "# -*- coding: utf-8 -*-\n",
    "# 模型训练\n",
    "import os\n",
    "import json\n",
    "import numpy as np\n",
    "import matplotlib.pyplot as plt\n",
    "from operator import itemgetter\n",
    "# from bert.extract_feature import BertVector\n",
    "from transformers import BertTokenizer\n",
    "# 读取文件并进行转换\n",
    "train_df, test_df = get_train_test_pd()\n",
    "tokenizer = BertTokenizer.from_pretrained(\"hfl/chinese-bert-wwm-ext\")\n",
    "\n",
    "print('begin encoding')\n",
    "print(train_df['text'])\n",
    "\n",
    "train = []\n",
    "test = []\n",
    "arr1 = tokenizer(train_df['text'].values.tolist(), padding=True, truncation=True, max_length=10, return_tensors='pt')[\"input_ids\"]\n",
    "for i in range(len(arr1)):\n",
    "    train.append(np.array(arr1[i]))\n",
    "\n",
    "arr2 = tokenizer(test_df['text'].values.tolist(), padding=True, truncation=True, max_length=10, return_tensors='pt')[\"input_ids\"]\n",
    "for i in range(len(arr2)):\n",
    "    test.append(np.array(arr2[i]))\n",
    "\n",
    "train_df['x'] = train\n",
    "test_df['x'] = test\n",
    "\n",
    "print(train_df, test_df)\n",
    "print('end encoding')"
   ]
  },
  {
   "cell_type": "code",
   "execution_count": 11,
   "metadata": {},
   "outputs": [
    {
     "name": "stdout",
     "output_type": "stream",
     "text": [
      "x_train:  [[101, 12289, 118, 8145, 2773, 3322, 109, 5838, 2526, 102], [101, 5401, 1744, 109, 158, 8156, 118, 143, 3862, 102], [101, 2337, 6872, 109, 2349, 710, 5408, 2270, 109, 102], [101, 5468, 1394, 2337, 6872, 109, 158, 8156, 118, 102]]\n",
      "x_test:  [[101, 2337, 6872, 109, 5838, 2526, 2161, 109, 5838, 102]]\n",
      "y_train:  ['1', '1', '4', '2']\n",
      "y_test:  ['3']\n"
     ]
    }
   ],
   "source": [
    "# 训练集和测试集\n",
    "x_train = np.array([vec for vec in train_df['x']]).tolist()\n",
    "x_test = np.array([vec for vec in test_df['x']]).tolist()\n",
    "y_train = np.array([vec for vec in train_df['label']]).tolist()\n",
    "y_test = np.array([vec for vec in test_df['label']]).tolist()\n",
    "print('x_train: ', x_train)\n",
    "print('x_test: ', x_test)\n",
    "print('y_train: ', y_train)\n",
    "print('y_test: ', y_test)"
   ]
  },
  {
   "cell_type": "code",
   "execution_count": 22,
   "metadata": {},
   "outputs": [
    {
     "ename": "AttributeError",
     "evalue": "module 'tensorflow._api.v2.compat.v2.__internal__' has no attribute 'register_load_context_function'",
     "output_type": "error",
     "traceback": [
      "\u001b[0;31m---------------------------------------------------------------------------\u001b[0m",
      "\u001b[0;31mAttributeError\u001b[0m                            Traceback (most recent call last)",
      "Cell \u001b[0;32mIn[22], line 2\u001b[0m\n\u001b[1;32m      1\u001b[0m \u001b[38;5;28;01mimport\u001b[39;00m \u001b[38;5;21;01mtensorflow\u001b[39;00m \u001b[38;5;28;01mas\u001b[39;00m \u001b[38;5;21;01mtf\u001b[39;00m\n\u001b[0;32m----> 2\u001b[0m \u001b[38;5;28;01mfrom\u001b[39;00m \u001b[38;5;21;01mkeras\u001b[39;00m\u001b[38;5;21;01m.\u001b[39;00m\u001b[38;5;21;01mutils\u001b[39;00m \u001b[38;5;28;01mimport\u001b[39;00m to_categorical\n\u001b[1;32m      3\u001b[0m \u001b[38;5;66;03m# 将类型y值转化为ont-hot向量\u001b[39;00m\n\u001b[1;32m      4\u001b[0m num_classes \u001b[38;5;241m=\u001b[39m \u001b[38;5;28mlen\u001b[39m(x_train) \u001b[38;5;241m+\u001b[39m \u001b[38;5;241m1\u001b[39m\n",
      "File \u001b[0;32m~/Library/Python/3.9/lib/python/site-packages/keras/__init__.py:3\u001b[0m\n\u001b[1;32m      1\u001b[0m \u001b[38;5;124;03m\"\"\"AUTOGENERATED. DO NOT EDIT.\"\"\"\u001b[39;00m\n\u001b[0;32m----> 3\u001b[0m \u001b[38;5;28;01mfrom\u001b[39;00m \u001b[38;5;21;01mkeras\u001b[39;00m \u001b[38;5;28;01mimport\u001b[39;00m __internal__\n\u001b[1;32m      4\u001b[0m \u001b[38;5;28;01mfrom\u001b[39;00m \u001b[38;5;21;01mkeras\u001b[39;00m \u001b[38;5;28;01mimport\u001b[39;00m activations\n\u001b[1;32m      5\u001b[0m \u001b[38;5;28;01mfrom\u001b[39;00m \u001b[38;5;21;01mkeras\u001b[39;00m \u001b[38;5;28;01mimport\u001b[39;00m applications\n",
      "File \u001b[0;32m~/Library/Python/3.9/lib/python/site-packages/keras/__internal__/__init__.py:6\u001b[0m\n\u001b[1;32m      4\u001b[0m \u001b[38;5;28;01mfrom\u001b[39;00m \u001b[38;5;21;01mkeras\u001b[39;00m\u001b[38;5;21;01m.\u001b[39;00m\u001b[38;5;21;01m__internal__\u001b[39;00m \u001b[38;5;28;01mimport\u001b[39;00m layers\n\u001b[1;32m      5\u001b[0m \u001b[38;5;28;01mfrom\u001b[39;00m \u001b[38;5;21;01mkeras\u001b[39;00m\u001b[38;5;21;01m.\u001b[39;00m\u001b[38;5;21;01m__internal__\u001b[39;00m \u001b[38;5;28;01mimport\u001b[39;00m losses\n\u001b[0;32m----> 6\u001b[0m \u001b[38;5;28;01mfrom\u001b[39;00m \u001b[38;5;21;01mkeras\u001b[39;00m\u001b[38;5;21;01m.\u001b[39;00m\u001b[38;5;21;01m__internal__\u001b[39;00m \u001b[38;5;28;01mimport\u001b[39;00m models\n\u001b[1;32m      7\u001b[0m \u001b[38;5;28;01mfrom\u001b[39;00m \u001b[38;5;21;01mkeras\u001b[39;00m\u001b[38;5;21;01m.\u001b[39;00m\u001b[38;5;21;01m__internal__\u001b[39;00m \u001b[38;5;28;01mimport\u001b[39;00m optimizers\n\u001b[1;32m      8\u001b[0m \u001b[38;5;28;01mfrom\u001b[39;00m \u001b[38;5;21;01mkeras\u001b[39;00m\u001b[38;5;21;01m.\u001b[39;00m\u001b[38;5;21;01m__internal__\u001b[39;00m \u001b[38;5;28;01mimport\u001b[39;00m utils\n",
      "File \u001b[0;32m~/Library/Python/3.9/lib/python/site-packages/keras/__internal__/models/__init__.py:3\u001b[0m\n\u001b[1;32m      1\u001b[0m \u001b[38;5;124;03m\"\"\"AUTOGENERATED. DO NOT EDIT.\"\"\"\u001b[39;00m\n\u001b[0;32m----> 3\u001b[0m \u001b[38;5;28;01mfrom\u001b[39;00m \u001b[38;5;21;01mkeras\u001b[39;00m\u001b[38;5;21;01m.\u001b[39;00m\u001b[38;5;21;01msrc\u001b[39;00m\u001b[38;5;21;01m.\u001b[39;00m\u001b[38;5;21;01mmodels\u001b[39;00m\u001b[38;5;21;01m.\u001b[39;00m\u001b[38;5;21;01mcloning\u001b[39;00m \u001b[38;5;28;01mimport\u001b[39;00m clone_and_build_model\n\u001b[1;32m      4\u001b[0m \u001b[38;5;28;01mfrom\u001b[39;00m \u001b[38;5;21;01mkeras\u001b[39;00m\u001b[38;5;21;01m.\u001b[39;00m\u001b[38;5;21;01msrc\u001b[39;00m\u001b[38;5;21;01m.\u001b[39;00m\u001b[38;5;21;01mmodels\u001b[39;00m\u001b[38;5;21;01m.\u001b[39;00m\u001b[38;5;21;01mcloning\u001b[39;00m \u001b[38;5;28;01mimport\u001b[39;00m in_place_subclassed_model_state_restoration\n",
      "File \u001b[0;32m~/Library/Python/3.9/lib/python/site-packages/keras/src/__init__.py:21\u001b[0m\n\u001b[1;32m      1\u001b[0m \u001b[38;5;66;03m# Copyright 2015 The TensorFlow Authors. All Rights Reserved.\u001b[39;00m\n\u001b[1;32m      2\u001b[0m \u001b[38;5;66;03m#\u001b[39;00m\n\u001b[1;32m      3\u001b[0m \u001b[38;5;66;03m# Licensed under the Apache License, Version 2.0 (the \"License\");\u001b[39;00m\n\u001b[0;32m   (...)\u001b[0m\n\u001b[1;32m     13\u001b[0m \u001b[38;5;66;03m# limitations under the License.\u001b[39;00m\n\u001b[1;32m     14\u001b[0m \u001b[38;5;66;03m# ==============================================================================\u001b[39;00m\n\u001b[1;32m     15\u001b[0m \u001b[38;5;124;03m\"\"\"Implementation of the Keras API, the high-level API of TensorFlow.\u001b[39;00m\n\u001b[1;32m     16\u001b[0m \n\u001b[1;32m     17\u001b[0m \u001b[38;5;124;03mDetailed documentation and user guides are available at\u001b[39;00m\n\u001b[1;32m     18\u001b[0m \u001b[38;5;124;03m[keras.io](https://keras.io).\u001b[39;00m\n\u001b[1;32m     19\u001b[0m \u001b[38;5;124;03m\"\"\"\u001b[39;00m\n\u001b[0;32m---> 21\u001b[0m \u001b[38;5;28;01mfrom\u001b[39;00m \u001b[38;5;21;01mkeras\u001b[39;00m\u001b[38;5;21;01m.\u001b[39;00m\u001b[38;5;21;01msrc\u001b[39;00m \u001b[38;5;28;01mimport\u001b[39;00m applications\n\u001b[1;32m     22\u001b[0m \u001b[38;5;28;01mfrom\u001b[39;00m \u001b[38;5;21;01mkeras\u001b[39;00m\u001b[38;5;21;01m.\u001b[39;00m\u001b[38;5;21;01msrc\u001b[39;00m \u001b[38;5;28;01mimport\u001b[39;00m distribute\n\u001b[1;32m     23\u001b[0m \u001b[38;5;28;01mfrom\u001b[39;00m \u001b[38;5;21;01mkeras\u001b[39;00m\u001b[38;5;21;01m.\u001b[39;00m\u001b[38;5;21;01msrc\u001b[39;00m \u001b[38;5;28;01mimport\u001b[39;00m models\n",
      "File \u001b[0;32m~/Library/Python/3.9/lib/python/site-packages/keras/src/applications/__init__.py:18\u001b[0m\n\u001b[1;32m      1\u001b[0m \u001b[38;5;66;03m# Copyright 2016 The TensorFlow Authors. All Rights Reserved.\u001b[39;00m\n\u001b[1;32m      2\u001b[0m \u001b[38;5;66;03m#\u001b[39;00m\n\u001b[1;32m      3\u001b[0m \u001b[38;5;66;03m# Licensed under the Apache License, Version 2.0 (the \"License\");\u001b[39;00m\n\u001b[0;32m   (...)\u001b[0m\n\u001b[1;32m     13\u001b[0m \u001b[38;5;66;03m# limitations under the License.\u001b[39;00m\n\u001b[1;32m     14\u001b[0m \u001b[38;5;66;03m# ==============================================================================\u001b[39;00m\n\u001b[1;32m     15\u001b[0m \u001b[38;5;124;03m\"\"\"Keras Applications are premade architectures with pre-trained weights.\"\"\"\u001b[39;00m\n\u001b[0;32m---> 18\u001b[0m \u001b[38;5;28;01mfrom\u001b[39;00m \u001b[38;5;21;01mkeras\u001b[39;00m\u001b[38;5;21;01m.\u001b[39;00m\u001b[38;5;21;01msrc\u001b[39;00m\u001b[38;5;21;01m.\u001b[39;00m\u001b[38;5;21;01mapplications\u001b[39;00m\u001b[38;5;21;01m.\u001b[39;00m\u001b[38;5;21;01mconvnext\u001b[39;00m \u001b[38;5;28;01mimport\u001b[39;00m ConvNeXtBase\n\u001b[1;32m     19\u001b[0m \u001b[38;5;28;01mfrom\u001b[39;00m \u001b[38;5;21;01mkeras\u001b[39;00m\u001b[38;5;21;01m.\u001b[39;00m\u001b[38;5;21;01msrc\u001b[39;00m\u001b[38;5;21;01m.\u001b[39;00m\u001b[38;5;21;01mapplications\u001b[39;00m\u001b[38;5;21;01m.\u001b[39;00m\u001b[38;5;21;01mconvnext\u001b[39;00m \u001b[38;5;28;01mimport\u001b[39;00m ConvNeXtLarge\n\u001b[1;32m     20\u001b[0m \u001b[38;5;28;01mfrom\u001b[39;00m \u001b[38;5;21;01mkeras\u001b[39;00m\u001b[38;5;21;01m.\u001b[39;00m\u001b[38;5;21;01msrc\u001b[39;00m\u001b[38;5;21;01m.\u001b[39;00m\u001b[38;5;21;01mapplications\u001b[39;00m\u001b[38;5;21;01m.\u001b[39;00m\u001b[38;5;21;01mconvnext\u001b[39;00m \u001b[38;5;28;01mimport\u001b[39;00m ConvNeXtSmall\n",
      "File \u001b[0;32m~/Library/Python/3.9/lib/python/site-packages/keras/src/applications/convnext.py:33\u001b[0m\n\u001b[1;32m     31\u001b[0m \u001b[38;5;28;01mfrom\u001b[39;00m \u001b[38;5;21;01mkeras\u001b[39;00m\u001b[38;5;21;01m.\u001b[39;00m\u001b[38;5;21;01msrc\u001b[39;00m \u001b[38;5;28;01mimport\u001b[39;00m utils\n\u001b[1;32m     32\u001b[0m \u001b[38;5;28;01mfrom\u001b[39;00m \u001b[38;5;21;01mkeras\u001b[39;00m\u001b[38;5;21;01m.\u001b[39;00m\u001b[38;5;21;01msrc\u001b[39;00m\u001b[38;5;21;01m.\u001b[39;00m\u001b[38;5;21;01mapplications\u001b[39;00m \u001b[38;5;28;01mimport\u001b[39;00m imagenet_utils\n\u001b[0;32m---> 33\u001b[0m \u001b[38;5;28;01mfrom\u001b[39;00m \u001b[38;5;21;01mkeras\u001b[39;00m\u001b[38;5;21;01m.\u001b[39;00m\u001b[38;5;21;01msrc\u001b[39;00m\u001b[38;5;21;01m.\u001b[39;00m\u001b[38;5;21;01mengine\u001b[39;00m \u001b[38;5;28;01mimport\u001b[39;00m sequential\n\u001b[1;32m     34\u001b[0m \u001b[38;5;28;01mfrom\u001b[39;00m \u001b[38;5;21;01mkeras\u001b[39;00m\u001b[38;5;21;01m.\u001b[39;00m\u001b[38;5;21;01msrc\u001b[39;00m\u001b[38;5;21;01m.\u001b[39;00m\u001b[38;5;21;01mengine\u001b[39;00m \u001b[38;5;28;01mimport\u001b[39;00m training \u001b[38;5;28;01mas\u001b[39;00m training_lib\n\u001b[1;32m     36\u001b[0m \u001b[38;5;66;03m# isort: off\u001b[39;00m\n",
      "File \u001b[0;32m~/Library/Python/3.9/lib/python/site-packages/keras/src/engine/sequential.py:24\u001b[0m\n\u001b[1;32m     22\u001b[0m \u001b[38;5;28;01mfrom\u001b[39;00m \u001b[38;5;21;01mkeras\u001b[39;00m\u001b[38;5;21;01m.\u001b[39;00m\u001b[38;5;21;01msrc\u001b[39;00m \u001b[38;5;28;01mimport\u001b[39;00m layers \u001b[38;5;28;01mas\u001b[39;00m layer_module\n\u001b[1;32m     23\u001b[0m \u001b[38;5;28;01mfrom\u001b[39;00m \u001b[38;5;21;01mkeras\u001b[39;00m\u001b[38;5;21;01m.\u001b[39;00m\u001b[38;5;21;01msrc\u001b[39;00m\u001b[38;5;21;01m.\u001b[39;00m\u001b[38;5;21;01mengine\u001b[39;00m \u001b[38;5;28;01mimport\u001b[39;00m base_layer\n\u001b[0;32m---> 24\u001b[0m \u001b[38;5;28;01mfrom\u001b[39;00m \u001b[38;5;21;01mkeras\u001b[39;00m\u001b[38;5;21;01m.\u001b[39;00m\u001b[38;5;21;01msrc\u001b[39;00m\u001b[38;5;21;01m.\u001b[39;00m\u001b[38;5;21;01mengine\u001b[39;00m \u001b[38;5;28;01mimport\u001b[39;00m functional\n\u001b[1;32m     25\u001b[0m \u001b[38;5;28;01mfrom\u001b[39;00m \u001b[38;5;21;01mkeras\u001b[39;00m\u001b[38;5;21;01m.\u001b[39;00m\u001b[38;5;21;01msrc\u001b[39;00m\u001b[38;5;21;01m.\u001b[39;00m\u001b[38;5;21;01mengine\u001b[39;00m \u001b[38;5;28;01mimport\u001b[39;00m input_layer\n\u001b[1;32m     26\u001b[0m \u001b[38;5;28;01mfrom\u001b[39;00m \u001b[38;5;21;01mkeras\u001b[39;00m\u001b[38;5;21;01m.\u001b[39;00m\u001b[38;5;21;01msrc\u001b[39;00m\u001b[38;5;21;01m.\u001b[39;00m\u001b[38;5;21;01mengine\u001b[39;00m \u001b[38;5;28;01mimport\u001b[39;00m training\n",
      "File \u001b[0;32m~/Library/Python/3.9/lib/python/site-packages/keras/src/engine/functional.py:33\u001b[0m\n\u001b[1;32m     31\u001b[0m \u001b[38;5;28;01mfrom\u001b[39;00m \u001b[38;5;21;01mkeras\u001b[39;00m\u001b[38;5;21;01m.\u001b[39;00m\u001b[38;5;21;01msrc\u001b[39;00m\u001b[38;5;21;01m.\u001b[39;00m\u001b[38;5;21;01mengine\u001b[39;00m \u001b[38;5;28;01mimport\u001b[39;00m input_spec\n\u001b[1;32m     32\u001b[0m \u001b[38;5;28;01mfrom\u001b[39;00m \u001b[38;5;21;01mkeras\u001b[39;00m\u001b[38;5;21;01m.\u001b[39;00m\u001b[38;5;21;01msrc\u001b[39;00m\u001b[38;5;21;01m.\u001b[39;00m\u001b[38;5;21;01mengine\u001b[39;00m \u001b[38;5;28;01mimport\u001b[39;00m node \u001b[38;5;28;01mas\u001b[39;00m node_module\n\u001b[0;32m---> 33\u001b[0m \u001b[38;5;28;01mfrom\u001b[39;00m \u001b[38;5;21;01mkeras\u001b[39;00m\u001b[38;5;21;01m.\u001b[39;00m\u001b[38;5;21;01msrc\u001b[39;00m\u001b[38;5;21;01m.\u001b[39;00m\u001b[38;5;21;01mengine\u001b[39;00m \u001b[38;5;28;01mimport\u001b[39;00m training \u001b[38;5;28;01mas\u001b[39;00m training_lib\n\u001b[1;32m     34\u001b[0m \u001b[38;5;28;01mfrom\u001b[39;00m \u001b[38;5;21;01mkeras\u001b[39;00m\u001b[38;5;21;01m.\u001b[39;00m\u001b[38;5;21;01msrc\u001b[39;00m\u001b[38;5;21;01m.\u001b[39;00m\u001b[38;5;21;01mengine\u001b[39;00m \u001b[38;5;28;01mimport\u001b[39;00m training_utils\n\u001b[1;32m     35\u001b[0m \u001b[38;5;28;01mfrom\u001b[39;00m \u001b[38;5;21;01mkeras\u001b[39;00m\u001b[38;5;21;01m.\u001b[39;00m\u001b[38;5;21;01msrc\u001b[39;00m\u001b[38;5;21;01m.\u001b[39;00m\u001b[38;5;21;01msaving\u001b[39;00m \u001b[38;5;28;01mimport\u001b[39;00m serialization_lib\n",
      "File \u001b[0;32m~/Library/Python/3.9/lib/python/site-packages/keras/src/engine/training.py:48\u001b[0m\n\u001b[1;32m     46\u001b[0m \u001b[38;5;28;01mfrom\u001b[39;00m \u001b[38;5;21;01mkeras\u001b[39;00m\u001b[38;5;21;01m.\u001b[39;00m\u001b[38;5;21;01msrc\u001b[39;00m\u001b[38;5;21;01m.\u001b[39;00m\u001b[38;5;21;01moptimizers\u001b[39;00m \u001b[38;5;28;01mimport\u001b[39;00m optimizer_v1\n\u001b[1;32m     47\u001b[0m \u001b[38;5;28;01mfrom\u001b[39;00m \u001b[38;5;21;01mkeras\u001b[39;00m\u001b[38;5;21;01m.\u001b[39;00m\u001b[38;5;21;01msrc\u001b[39;00m\u001b[38;5;21;01m.\u001b[39;00m\u001b[38;5;21;01msaving\u001b[39;00m \u001b[38;5;28;01mimport\u001b[39;00m pickle_utils\n\u001b[0;32m---> 48\u001b[0m \u001b[38;5;28;01mfrom\u001b[39;00m \u001b[38;5;21;01mkeras\u001b[39;00m\u001b[38;5;21;01m.\u001b[39;00m\u001b[38;5;21;01msrc\u001b[39;00m\u001b[38;5;21;01m.\u001b[39;00m\u001b[38;5;21;01msaving\u001b[39;00m \u001b[38;5;28;01mimport\u001b[39;00m saving_api\n\u001b[1;32m     49\u001b[0m \u001b[38;5;28;01mfrom\u001b[39;00m \u001b[38;5;21;01mkeras\u001b[39;00m\u001b[38;5;21;01m.\u001b[39;00m\u001b[38;5;21;01msrc\u001b[39;00m\u001b[38;5;21;01m.\u001b[39;00m\u001b[38;5;21;01msaving\u001b[39;00m \u001b[38;5;28;01mimport\u001b[39;00m saving_lib\n\u001b[1;32m     50\u001b[0m \u001b[38;5;28;01mfrom\u001b[39;00m \u001b[38;5;21;01mkeras\u001b[39;00m\u001b[38;5;21;01m.\u001b[39;00m\u001b[38;5;21;01msrc\u001b[39;00m\u001b[38;5;21;01m.\u001b[39;00m\u001b[38;5;21;01msaving\u001b[39;00m \u001b[38;5;28;01mimport\u001b[39;00m serialization_lib\n",
      "File \u001b[0;32m~/Library/Python/3.9/lib/python/site-packages/keras/src/saving/saving_api.py:25\u001b[0m\n\u001b[1;32m     22\u001b[0m \u001b[38;5;28;01mfrom\u001b[39;00m \u001b[38;5;21;01mtensorflow\u001b[39;00m\u001b[38;5;21;01m.\u001b[39;00m\u001b[38;5;21;01mpython\u001b[39;00m\u001b[38;5;21;01m.\u001b[39;00m\u001b[38;5;21;01mutil\u001b[39;00m\u001b[38;5;21;01m.\u001b[39;00m\u001b[38;5;21;01mtf_export\u001b[39;00m \u001b[38;5;28;01mimport\u001b[39;00m keras_export\n\u001b[1;32m     24\u001b[0m \u001b[38;5;28;01mfrom\u001b[39;00m \u001b[38;5;21;01mkeras\u001b[39;00m\u001b[38;5;21;01m.\u001b[39;00m\u001b[38;5;21;01msrc\u001b[39;00m\u001b[38;5;21;01m.\u001b[39;00m\u001b[38;5;21;01msaving\u001b[39;00m \u001b[38;5;28;01mimport\u001b[39;00m saving_lib\n\u001b[0;32m---> 25\u001b[0m \u001b[38;5;28;01mfrom\u001b[39;00m \u001b[38;5;21;01mkeras\u001b[39;00m\u001b[38;5;21;01m.\u001b[39;00m\u001b[38;5;21;01msrc\u001b[39;00m\u001b[38;5;21;01m.\u001b[39;00m\u001b[38;5;21;01msaving\u001b[39;00m\u001b[38;5;21;01m.\u001b[39;00m\u001b[38;5;21;01mlegacy\u001b[39;00m \u001b[38;5;28;01mimport\u001b[39;00m save \u001b[38;5;28;01mas\u001b[39;00m legacy_sm_saving_lib\n\u001b[1;32m     26\u001b[0m \u001b[38;5;28;01mfrom\u001b[39;00m \u001b[38;5;21;01mkeras\u001b[39;00m\u001b[38;5;21;01m.\u001b[39;00m\u001b[38;5;21;01msrc\u001b[39;00m\u001b[38;5;21;01m.\u001b[39;00m\u001b[38;5;21;01mutils\u001b[39;00m \u001b[38;5;28;01mimport\u001b[39;00m io_utils\n\u001b[1;32m     28\u001b[0m \u001b[38;5;28;01mtry\u001b[39;00m:\n",
      "File \u001b[0;32m~/Library/Python/3.9/lib/python/site-packages/keras/src/saving/legacy/save.py:27\u001b[0m\n\u001b[1;32m     25\u001b[0m \u001b[38;5;28;01mfrom\u001b[39;00m \u001b[38;5;21;01mkeras\u001b[39;00m\u001b[38;5;21;01m.\u001b[39;00m\u001b[38;5;21;01msrc\u001b[39;00m\u001b[38;5;21;01m.\u001b[39;00m\u001b[38;5;21;01msaving\u001b[39;00m\u001b[38;5;21;01m.\u001b[39;00m\u001b[38;5;21;01mlegacy\u001b[39;00m \u001b[38;5;28;01mimport\u001b[39;00m serialization\n\u001b[1;32m     26\u001b[0m \u001b[38;5;28;01mfrom\u001b[39;00m \u001b[38;5;21;01mkeras\u001b[39;00m\u001b[38;5;21;01m.\u001b[39;00m\u001b[38;5;21;01msrc\u001b[39;00m\u001b[38;5;21;01m.\u001b[39;00m\u001b[38;5;21;01msaving\u001b[39;00m\u001b[38;5;21;01m.\u001b[39;00m\u001b[38;5;21;01mlegacy\u001b[39;00m\u001b[38;5;21;01m.\u001b[39;00m\u001b[38;5;21;01msaved_model\u001b[39;00m \u001b[38;5;28;01mimport\u001b[39;00m load \u001b[38;5;28;01mas\u001b[39;00m saved_model_load\n\u001b[0;32m---> 27\u001b[0m \u001b[38;5;28;01mfrom\u001b[39;00m \u001b[38;5;21;01mkeras\u001b[39;00m\u001b[38;5;21;01m.\u001b[39;00m\u001b[38;5;21;01msrc\u001b[39;00m\u001b[38;5;21;01m.\u001b[39;00m\u001b[38;5;21;01msaving\u001b[39;00m\u001b[38;5;21;01m.\u001b[39;00m\u001b[38;5;21;01mlegacy\u001b[39;00m\u001b[38;5;21;01m.\u001b[39;00m\u001b[38;5;21;01msaved_model\u001b[39;00m \u001b[38;5;28;01mimport\u001b[39;00m load_context\n\u001b[1;32m     28\u001b[0m \u001b[38;5;28;01mfrom\u001b[39;00m \u001b[38;5;21;01mkeras\u001b[39;00m\u001b[38;5;21;01m.\u001b[39;00m\u001b[38;5;21;01msrc\u001b[39;00m\u001b[38;5;21;01m.\u001b[39;00m\u001b[38;5;21;01msaving\u001b[39;00m\u001b[38;5;21;01m.\u001b[39;00m\u001b[38;5;21;01mlegacy\u001b[39;00m\u001b[38;5;21;01m.\u001b[39;00m\u001b[38;5;21;01msaved_model\u001b[39;00m \u001b[38;5;28;01mimport\u001b[39;00m save \u001b[38;5;28;01mas\u001b[39;00m saved_model_save\n\u001b[1;32m     29\u001b[0m \u001b[38;5;28;01mfrom\u001b[39;00m \u001b[38;5;21;01mkeras\u001b[39;00m\u001b[38;5;21;01m.\u001b[39;00m\u001b[38;5;21;01msrc\u001b[39;00m\u001b[38;5;21;01m.\u001b[39;00m\u001b[38;5;21;01msaving\u001b[39;00m\u001b[38;5;21;01m.\u001b[39;00m\u001b[38;5;21;01mlegacy\u001b[39;00m\u001b[38;5;21;01m.\u001b[39;00m\u001b[38;5;21;01msaved_model\u001b[39;00m\u001b[38;5;21;01m.\u001b[39;00m\u001b[38;5;21;01mutils\u001b[39;00m \u001b[38;5;28;01mimport\u001b[39;00m keras_option_scope\n",
      "File \u001b[0;32m~/Library/Python/3.9/lib/python/site-packages/keras/src/saving/legacy/saved_model/load_context.py:68\u001b[0m\n\u001b[1;32m     64\u001b[0m \u001b[38;5;250m    \u001b[39m\u001b[38;5;124;03m\"\"\"Returns whether under a load context.\"\"\"\u001b[39;00m\n\u001b[1;32m     65\u001b[0m     \u001b[38;5;28;01mreturn\u001b[39;00m _load_context\u001b[38;5;241m.\u001b[39min_load_context()\n\u001b[0;32m---> 68\u001b[0m \u001b[43mtf\u001b[49m\u001b[38;5;241;43m.\u001b[39;49m\u001b[43m__internal__\u001b[49m\u001b[38;5;241;43m.\u001b[39;49m\u001b[43mregister_load_context_function\u001b[49m(in_load_context)\n",
      "\u001b[0;31mAttributeError\u001b[0m: module 'tensorflow._api.v2.compat.v2.__internal__' has no attribute 'register_load_context_function'"
     ]
    }
   ],
   "source": [
    "import tensorflow as tf\n",
    "from keras.utils import to_categorical\n",
    "# 将类型y值转化为ont-hot向量\n",
    "num_classes = len(x_train) + 1\n",
    "\n",
    "y_train = to_categorical(y_train, num_classes)\n",
    "y_test = to_categorical(y_test, num_classes)\n",
    "\n",
    "print('y_train', y_train)\n",
    "print('y_test', y_test)\n"
   ]
  },
  {
   "cell_type": "code",
   "execution_count": 25,
   "metadata": {},
   "outputs": [
    {
     "name": "stdout",
     "output_type": "stream",
     "text": [
      "x_train [[101, 12289, 118, 8145, 2773, 3322, 109, 5838, 2526, 102], [101, 5401, 1744, 109, 158, 8156, 118, 143, 3862, 102], [101, 2337, 6872, 109, 2349, 710, 5408, 2270, 109, 102], [101, 5468, 1394, 2337, 6872, 109, 158, 8156, 118, 102]] (4, 10)\n",
      "y_train [[0. 1. 0. 0. 0.]\n",
      " [0. 1. 0. 0. 0.]\n",
      " [0. 0. 0. 0. 1.]\n",
      " [0. 0. 1. 0. 0.]] (4, 5)\n"
     ]
    }
   ],
   "source": [
    "print(\"x_train\", x_train, np.array(x_train).shape)\n",
    "print(\"y_train\", y_train, np.array(y_train).shape)"
   ]
  },
  {
   "cell_type": "code",
   "execution_count": 1,
   "metadata": {},
   "outputs": [
    {
     "ename": "ImportError",
     "evalue": "cannot import name 'Input' from 'keras.layers' (unknown location)",
     "output_type": "error",
     "traceback": [
      "\u001b[0;31m---------------------------------------------------------------------------\u001b[0m",
      "\u001b[0;31mImportError\u001b[0m                               Traceback (most recent call last)",
      "\u001b[1;32m/Users/bierxiensi/Desktop/python_prjs/knGraph/preData.ipynb 单元格 11\u001b[0m line \u001b[0;36m2\n\u001b[1;32m      <a href='vscode-notebook-cell:/Users/bierxiensi/Desktop/python_prjs/knGraph/preData.ipynb#X13sZmlsZQ%3D%3D?line=0'>1</a>\u001b[0m \u001b[39m#from att import Attention\u001b[39;00m\n\u001b[0;32m----> <a href='vscode-notebook-cell:/Users/bierxiensi/Desktop/python_prjs/knGraph/preData.ipynb#X13sZmlsZQ%3D%3D?line=1'>2</a>\u001b[0m \u001b[39mfrom\u001b[39;00m \u001b[39mkeras\u001b[39;00m\u001b[39m.\u001b[39;00m\u001b[39mlayers\u001b[39;00m \u001b[39mimport\u001b[39;00m  Input, Dense,Embedding,Conv1D,MaxPooling1D,LSTM\n\u001b[1;32m      <a href='vscode-notebook-cell:/Users/bierxiensi/Desktop/python_prjs/knGraph/preData.ipynb#X13sZmlsZQ%3D%3D?line=2'>3</a>\u001b[0m \u001b[39m# from keras.optimizers import Adam\u001b[39;00m\n\u001b[1;32m      <a href='vscode-notebook-cell:/Users/bierxiensi/Desktop/python_prjs/knGraph/preData.ipynb#X13sZmlsZQ%3D%3D?line=3'>4</a>\u001b[0m \n\u001b[1;32m      <a href='vscode-notebook-cell:/Users/bierxiensi/Desktop/python_prjs/knGraph/preData.ipynb#X13sZmlsZQ%3D%3D?line=4'>5</a>\u001b[0m \u001b[39m# 模型结构：BERT + 双向GRU + Attention + FC\u001b[39;00m\n\u001b[0;32m   (...)\u001b[0m\n\u001b[1;32m     <a href='vscode-notebook-cell:/Users/bierxiensi/Desktop/python_prjs/knGraph/preData.ipynb#X13sZmlsZQ%3D%3D?line=9'>10</a>\u001b[0m \u001b[39m# output = Dense(num_classes, activation='softmax')(gru)\u001b[39;00m\n\u001b[1;32m     <a href='vscode-notebook-cell:/Users/bierxiensi/Desktop/python_prjs/knGraph/preData.ipynb#X13sZmlsZQ%3D%3D?line=10'>11</a>\u001b[0m \u001b[39m# model = Model(inputs, output)\u001b[39;00m\n\u001b[1;32m     <a href='vscode-notebook-cell:/Users/bierxiensi/Desktop/python_prjs/knGraph/preData.ipynb#X13sZmlsZQ%3D%3D?line=12'>13</a>\u001b[0m max_len \u001b[39m=\u001b[39m \u001b[39m10\u001b[39m\n",
      "\u001b[0;31mImportError\u001b[0m: cannot import name 'Input' from 'keras.layers' (unknown location)"
     ]
    }
   ],
   "source": [
    "#from att import Attention\n",
    "from keras.layers import  Input, Dense,Embedding,Conv1D,MaxPooling1D,LSTM\n",
    "from keras.utils import to_categorical\n",
    "from keras.models import Model\n",
    "from keras.optimizers import Adam\n",
    "from keras.callbacks import EarlyStopping\n",
    "# # from att import Attention\n",
    "# from keras.layers import Attention\n",
    "from keras.callbacks import ModelCheckpoint\n",
    "# from keras.optimizers import Adam\n",
    "\n",
    "# 模型结构：BERT + 双向GRU + Attention + FC\n",
    "# inputs = Input(shape=(10, 60, ))\n",
    "# inputs = Input(name='inputs',shape=[10, 10])\n",
    "# gru = Bidirectional(GRU(10, dropout=0.2, return_sequences=True))(inputs)\n",
    "# #attention = Attention(32)(gru)\n",
    "# output = Dense(num_classes, activation='softmax')(gru)\n",
    "# model = Model(inputs, output)\n",
    "\n",
    "max_len = 10\n",
    "max_words = 10\n",
    "inputs = Input(name='inputs',shape=(10, ))\n",
    "## Embedding(词汇表大小,batch大小,每个新闻的词长)\n",
    "layer = Embedding(max_words+1,128,input_shape=max_len)(inputs)\n",
    "layer = Conv1D(filters=32, kernel_size=3, padding='same', activation='relu')(layer)\n",
    "layer = MaxPooling1D(pool_size=2)(layer)\n",
    "layer = Conv1D(filters=32, kernel_size=3, padding='same', activation='relu')(layer)\n",
    "layer = MaxPooling1D(pool_size=2)(layer)\n",
    "layer = LSTM(10, dropout=0.2, recurrent_dropout=0.2)(layer)\n",
    "layer = Dense(num_classes, activation='softmax')(layer)\n",
    "model = Model(inputs=inputs,outputs=layer)\n",
    "model.summary()\n",
    "\n",
    "# 模型可视化\n",
    "# from keras.utils import plot_model\n",
    "# plot_model(model, to_file='model.png', show_shapes=True)\n",
    "\n",
    "model.compile(loss='categorical_crossentropy',\n",
    "              optimizer=Adam(),\n",
    "              metrics=['accuracy'])\n",
    "\n",
    "# early stopping\n",
    "early_stopping = EarlyStopping(monitor='val_accuracy', patience=5, mode='max')\n",
    "\n",
    "# 如果原来models文件夹下存在.h5文件，则全部删除\n",
    "model_dir = './models'\n",
    "if os.listdir(model_dir):\n",
    "    for file in os.listdir(model_dir):\n",
    "        os.remove(os.path.join(model_dir, file))\n",
    "\n",
    "# 保存最新的val_acc最好的模型文件\n",
    "filepath=\"models/per-rel-{epoch:02d}-{val_accuracy:.4f}.keras\"\n",
    "checkpoint = ModelCheckpoint(filepath, monitor='val_accuracy', verbose=1, save_best_only=True,mode='max')\n",
    "\n",
    "\n",
    "print(\"x_train\", x_train, np.array(x_train).shape)\n",
    "print(\"y_train\", y_train, np.array(y_train).shape)\n",
    "print(\"x_test\", x_test)\n",
    "# print(\"y_test\", y_test)\n",
    "\n",
    "# 模型训练以及评估\n",
    "history = model.fit(np.array(x_train), np.array(y_train), validation_data=(np.array(x_test), np.array(y_test)), batch_size=16, epochs=30, callbacks=[early_stopping, checkpoint])\n",
    "#history = model.fit(np.array(x_train), np.array(y_train), batch_size=10, epochs=10)\n",
    "\n",
    "model.save('people_relation.h5')"
   ]
  },
  {
   "cell_type": "code",
   "execution_count": 35,
   "metadata": {},
   "outputs": [
    {
     "name": "stdout",
     "output_type": "stream",
     "text": [
      "\u001b[1m1/1\u001b[0m \u001b[32m━━━━━━━━━━━━━━━━━━━━\u001b[0m\u001b[37m\u001b[0m \u001b[1m0s\u001b[0m 11ms/step - accuracy: 0.0000e+00 - loss: 1.6468\n",
      "在测试集上的效果： [1.6467655897140503, 0.0]\n",
      "\u001b[1m1/1\u001b[0m \u001b[32m━━━━━━━━━━━━━━━━━━━━\u001b[0m\u001b[37m\u001b[0m \u001b[1m0s\u001b[0m 8ms/step\n",
      "['unknown', '属于', '参与', '参加', '发生']\n"
     ]
    },
    {
     "data": {
      "image/png": "[encoded data removed]",
      "text/plain": [
       "<Figure size 640x480 with 2 Axes>"
      ]
     },
     "metadata": {},
     "output_type": "display_data"
    }
   ],
   "source": [
    "print('在测试集上的效果：', model.evaluate(np.array(x_test), np.array(y_test)))\n",
    "\n",
    "# 读取关系对应表\n",
    "with open('./dict.json', 'r', encoding='utf-8') as f:\n",
    "    label_id_dict = json.loads(f.read())\n",
    "\n",
    "sorted_label_id_dict = sorted(label_id_dict.items(), key=itemgetter(1))\n",
    "values = [_[0] for _ in sorted_label_id_dict]\n",
    "\n",
    "# 输出每一类的classification report\n",
    "y_pred = model.predict(np.array(x_test), batch_size=32)\n",
    "print(values)\n",
    "#print(classification_report(np.array(y_test).argmax(axis=1), y_pred.argmax(axis=1), target_names=values))\n",
    "\n",
    "# 绘制loss和acc图像\n",
    "plt.subplot(2, 1, 1)\n",
    "epochs = len(history.history['loss'])\n",
    "plt.plot(range(epochs), history.history['loss'], label='loss')\n",
    "plt.plot(range(epochs), history.history['val_loss'], label='val_loss')\n",
    "plt.legend()\n",
    "\n",
    "plt.subplot(2, 1, 2)\n",
    "epochs = len(history.history['accuracy'])\n",
    "plt.plot(range(epochs), history.history['accuracy'], label='acc')\n",
    "plt.plot(range(epochs), history.history['val_accuracy'], label='val_acc')\n",
    "plt.legend()\n",
    "plt.savefig(\"loss_acc.png\")"
   ]
  },
  {
   "cell_type": "code",
   "execution_count": null,
   "metadata": {},
   "outputs": [],
   "source": [
    "# 预测"
   ]
  },
  {
   "cell_type": "code",
   "execution_count": 49,
   "metadata": {},
   "outputs": [
    {
     "name": "stdout",
     "output_type": "stream",
     "text": [
      "./models/per-rel-01-0.0000.keras\n",
      "\u001b[1m1/1\u001b[0m \u001b[32m━━━━━━━━━━━━━━━━━━━━\u001b[0m\u001b[37m\u001b[0m \u001b[1m0s\u001b[0m 81ms/step\n",
      "原文: 美国#P8-A海上巡逻机#P-8A海上巡逻机（P-8A Poseidon），是美国波音公司设计生产的新一代海上巡逻机。\n",
      "预测军事事件关系: 发生\n"
     ]
    }
   ],
   "source": [
    "import os, json\n",
    "import numpy as np\n",
    "from keras.models import load_model\n",
    "\n",
    "# 加载训练效果最好的模型\n",
    "model_dir = './models'\n",
    "files = os.listdir(model_dir)\n",
    "models_path = [os.path.join(model_dir, _) for _ in files]\n",
    "best_model_path = sorted(models_path, key=lambda x: float(x.split('-')[-1].replace('.keras', '')), reverse=True)[0]\n",
    "print(best_model_path)\n",
    "model = load_model(best_model_path)\n",
    "\n",
    "# 示例语句及预处理\n",
    "text1 = '美国#P8-A海上巡逻机#P-8A海上巡逻机（P-8A Poseidon），是美国波音公司设计生产的新一代海上巡逻机。'\n",
    "per1, per2, doc = text1.split('#')\n",
    "text = '$'.join([per1, per2, doc.replace(per1, len(per1)*'#').replace(per2, len(per2)*'#')])\n",
    "# print(text)\n",
    "\n",
    "\n",
    "# 利用BERT提取句子特征\n",
    "x_train = []\n",
    "arr = tokenizer([text1], padding=True, truncation=True, max_length=10, return_tensors='pt')[\"input_ids\"]\n",
    "for i in range(len(arr)):\n",
    "    x_train.append(np.array(arr[i]))\n",
    "\n",
    "# 模型预测并输出预测结果\n",
    "predicted = model.predict(np.array(x_train))\n",
    "y = np.argmax(predicted[0])\n",
    "\n",
    "with open('dict.json', 'r', encoding='utf-8') as f:\n",
    "    rel_dict = json.load(f)\n",
    "\n",
    "id_rel_dict = {v:k for k,v in rel_dict.items()}\n",
    "print('原文: %s' % text1)\n",
    "print('预测军事事件关系: %s' % id_rel_dict[y])"
   ]
  }
 ],
 "metadata": {
  "kernelspec": {
   "display_name": "Python 3",
   "language": "python",
   "name": "python3"
  },
  "language_info": {
   "codemirror_mode": {
    "name": "ipython",
    "version": 3
   },
   "file_extension": ".py",
   "mimetype": "text/x-python",
   "name": "python",
   "nbconvert_exporter": "python",
   "pygments_lexer": "ipython3",
   "version": "3.9.6"
  }
 },
 "nbformat": 4,
 "nbformat_minor": 2
}
